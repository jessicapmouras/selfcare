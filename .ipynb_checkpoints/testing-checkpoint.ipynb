{
 "cells": [
  {
   "cell_type": "code",
   "execution_count": 1,
   "metadata": {},
   "outputs": [],
   "source": [
    "#general imports\n",
    "import numpy as np\n",
    "import pandas as pd\n",
    "\n",
    "\n",
    "import unicodedata\n",
    "import string\n",
    "import re\n",
    "\n",
    "#sklearn imports\n",
    "from sklearn.metrics.pairwise import linear_kernel, cosine_similarity\n",
    "from sklearn.feature_extraction.text import CountVectorizer, TfidfVectorizer\n",
    "from sklearn import preprocessing\n",
    "from sklearn.model_selection import train_test_split\n",
    "\n",
    "\n",
    "#nltk imports\n",
    "from nltk.util import ngrams\n",
    "from nltk.tokenize import sent_tokenize, word_tokenize\n",
    "from nltk.corpus import stopwords\n",
    "from nltk.stem.snowball import  SnowballStemmer\n",
    "\n",
    "np.set_printoptions(linewidth=100)\n",
    "\n",
    "sw = stopwords.words('english')\n",
    "pt = string.punctuation\n",
    "stemmer = SnowballStemmer('english')"
   ]
  },
  {
   "cell_type": "markdown",
   "metadata": {},
   "source": [
    "## load data and drop image columns"
   ]
  },
  {
   "cell_type": "code",
   "execution_count": 2,
   "metadata": {},
   "outputs": [
    {
     "data": {
      "text/html": [
       "<div>\n",
       "<style scoped>\n",
       "    .dataframe tbody tr th:only-of-type {\n",
       "        vertical-align: middle;\n",
       "    }\n",
       "\n",
       "    .dataframe tbody tr th {\n",
       "        vertical-align: top;\n",
       "    }\n",
       "\n",
       "    .dataframe thead th {\n",
       "        text-align: right;\n",
       "    }\n",
       "</style>\n",
       "<table border=\"1\" class=\"dataframe\">\n",
       "  <thead>\n",
       "    <tr style=\"text-align: right;\">\n",
       "      <th></th>\n",
       "      <th>Category</th>\n",
       "      <th>UserName</th>\n",
       "      <th>Product</th>\n",
       "      <th>UserReviewTitle</th>\n",
       "      <th>Url</th>\n",
       "      <th>Brand</th>\n",
       "      <th>ReviewText</th>\n",
       "      <th>Rank</th>\n",
       "      <th>OverallScore</th>\n",
       "      <th>Featured</th>\n",
       "      <th>UserRating</th>\n",
       "      <th>Date</th>\n",
       "      <th>ReviewTextMore</th>\n",
       "      <th>Image</th>\n",
       "    </tr>\n",
       "  </thead>\n",
       "  <tbody>\n",
       "    <tr>\n",
       "      <th>0</th>\n",
       "      <td>More Anti-Aging</td>\n",
       "      <td>pynkNymphette</td>\n",
       "      <td>Elemis Pro-Collagen Marine Cream</td>\n",
       "      <td>$$$$$$</td>\n",
       "      <td>/reviews/product/503745/elemis-procollagen-mar...</td>\n",
       "      <td>Elemis Product Reviews</td>\n",
       "      <td>Crrrraaazzzyyyy expensive! But it works so gre...</td>\n",
       "      <td>1.0</td>\n",
       "      <td>9.3</td>\n",
       "      <td>1.0</td>\n",
       "      <td>8.0</td>\n",
       "      <td>— 6 years, 2 months ago</td>\n",
       "      <td>NaN</td>\n",
       "      <td>http://images.totalbeauty.com/uploads/tx_userp...</td>\n",
       "    </tr>\n",
       "    <tr>\n",
       "      <th>1</th>\n",
       "      <td>More Anti-Aging</td>\n",
       "      <td>corina</td>\n",
       "      <td>Elemis Pro-Collagen Marine Cream</td>\n",
       "      <td>Elemis Pro Collagen Marine Cream</td>\n",
       "      <td>/reviews/product/503745/elemis-procollagen-mar...</td>\n",
       "      <td>Elemis Product Reviews</td>\n",
       "      <td>WOW . . . .this is a really good product. I fi...</td>\n",
       "      <td>2.0</td>\n",
       "      <td>9.3</td>\n",
       "      <td>0.0</td>\n",
       "      <td>10.0</td>\n",
       "      <td>— 3 years, 11 months ago</td>\n",
       "      <td>people noticed, which is huge for me. I'm defi...</td>\n",
       "      <td>http://images.totalbeauty.com/uploads/tx_userp...</td>\n",
       "    </tr>\n",
       "    <tr>\n",
       "      <th>2</th>\n",
       "      <td>More Anti-Aging</td>\n",
       "      <td>Kathrina</td>\n",
       "      <td>Elemis Pro-Collagen Marine Cream</td>\n",
       "      <td>Good but pricey</td>\n",
       "      <td>/reviews/product/503745/elemis-procollagen-mar...</td>\n",
       "      <td>Elemis Product Reviews</td>\n",
       "      <td>I started using the Elemis line about 6 months...</td>\n",
       "      <td>3.0</td>\n",
       "      <td>9.3</td>\n",
       "      <td>0.0</td>\n",
       "      <td>10.0</td>\n",
       "      <td>— 9 years, 2 months ago</td>\n",
       "      <td>ot recommend it for very dry skin though, it i...</td>\n",
       "      <td>http://images.totalbeauty.com/uploads/tx_userp...</td>\n",
       "    </tr>\n",
       "    <tr>\n",
       "      <th>3</th>\n",
       "      <td>More Anti-Aging</td>\n",
       "      <td>alicia_acedo</td>\n",
       "      <td>Elemis Pro-Collagen Marine Cream</td>\n",
       "      <td>Elemis Pro Collagen Marine Cream</td>\n",
       "      <td>/reviews/product/503745/elemis-procollagen-mar...</td>\n",
       "      <td>Elemis Product Reviews</td>\n",
       "      <td>I had a complete facial, on a Carnival cruise ...</td>\n",
       "      <td>4.0</td>\n",
       "      <td>9.3</td>\n",
       "      <td>0.0</td>\n",
       "      <td>10.0</td>\n",
       "      <td>— 3 years, 5 months ago</td>\n",
       "      <td>NaN</td>\n",
       "      <td>http://images.totalbeauty.com/uploads/tx_userp...</td>\n",
       "    </tr>\n",
       "    <tr>\n",
       "      <th>4</th>\n",
       "      <td>More Anti-Aging</td>\n",
       "      <td>sonia_silveroli</td>\n",
       "      <td>Elemis Pro-Collagen Marine Cream</td>\n",
       "      <td>Like Silk</td>\n",
       "      <td>/reviews/product/503745/elemis-procollagen-mar...</td>\n",
       "      <td>Elemis Product Reviews</td>\n",
       "      <td>I purchased this a few years ago and WOW, just...</td>\n",
       "      <td>5.0</td>\n",
       "      <td>9.3</td>\n",
       "      <td>0.0</td>\n",
       "      <td>10.0</td>\n",
       "      <td>— 5 years, 5 months ago</td>\n",
       "      <td>NaN</td>\n",
       "      <td>http://images.totalbeauty.com/uploads/tx_userp...</td>\n",
       "    </tr>\n",
       "  </tbody>\n",
       "</table>\n",
       "</div>"
      ],
      "text/plain": [
       "          Category         UserName                           Product  \\\n",
       "0  More Anti-Aging    pynkNymphette  Elemis Pro-Collagen Marine Cream   \n",
       "1  More Anti-Aging           corina  Elemis Pro-Collagen Marine Cream   \n",
       "2  More Anti-Aging         Kathrina  Elemis Pro-Collagen Marine Cream   \n",
       "3  More Anti-Aging     alicia_acedo  Elemis Pro-Collagen Marine Cream   \n",
       "4  More Anti-Aging  sonia_silveroli  Elemis Pro-Collagen Marine Cream   \n",
       "\n",
       "                    UserReviewTitle  \\\n",
       "0                            $$$$$$   \n",
       "1  Elemis Pro Collagen Marine Cream   \n",
       "2                   Good but pricey   \n",
       "3  Elemis Pro Collagen Marine Cream   \n",
       "4                         Like Silk   \n",
       "\n",
       "                                                 Url                   Brand  \\\n",
       "0  /reviews/product/503745/elemis-procollagen-mar...  Elemis Product Reviews   \n",
       "1  /reviews/product/503745/elemis-procollagen-mar...  Elemis Product Reviews   \n",
       "2  /reviews/product/503745/elemis-procollagen-mar...  Elemis Product Reviews   \n",
       "3  /reviews/product/503745/elemis-procollagen-mar...  Elemis Product Reviews   \n",
       "4  /reviews/product/503745/elemis-procollagen-mar...  Elemis Product Reviews   \n",
       "\n",
       "                                          ReviewText  Rank  OverallScore  \\\n",
       "0  Crrrraaazzzyyyy expensive! But it works so gre...   1.0           9.3   \n",
       "1  WOW . . . .this is a really good product. I fi...   2.0           9.3   \n",
       "2  I started using the Elemis line about 6 months...   3.0           9.3   \n",
       "3  I had a complete facial, on a Carnival cruise ...   4.0           9.3   \n",
       "4  I purchased this a few years ago and WOW, just...   5.0           9.3   \n",
       "\n",
       "   Featured  UserRating                      Date  \\\n",
       "0       1.0         8.0   — 6 years, 2 months ago   \n",
       "1       0.0        10.0  — 3 years, 11 months ago   \n",
       "2       0.0        10.0   — 9 years, 2 months ago   \n",
       "3       0.0        10.0   — 3 years, 5 months ago   \n",
       "4       0.0        10.0   — 5 years, 5 months ago   \n",
       "\n",
       "                                      ReviewTextMore  \\\n",
       "0                                                NaN   \n",
       "1  people noticed, which is huge for me. I'm defi...   \n",
       "2  ot recommend it for very dry skin though, it i...   \n",
       "3                                                NaN   \n",
       "4                                                NaN   \n",
       "\n",
       "                                               Image  \n",
       "0  http://images.totalbeauty.com/uploads/tx_userp...  \n",
       "1  http://images.totalbeauty.com/uploads/tx_userp...  \n",
       "2  http://images.totalbeauty.com/uploads/tx_userp...  \n",
       "3  http://images.totalbeauty.com/uploads/tx_userp...  \n",
       "4  http://images.totalbeauty.com/uploads/tx_userp...  "
      ]
     },
     "execution_count": 2,
     "metadata": {},
     "output_type": "execute_result"
    }
   ],
   "source": [
    "df = pd.read_csv('skincare.csv')\n",
    "df = df.reset_index(drop=True)\n",
    "df.drop(['Unnamed: 0'], axis=1, inplace=True)\n",
    "df.drop(['Unnamed: 0.1'], axis=1, inplace=True);\n",
    "df.head()"
   ]
  },
  {
   "cell_type": "code",
   "execution_count": 3,
   "metadata": {},
   "outputs": [],
   "source": [
    "df.drop(['Image'], axis=1, inplace=True);"
   ]
  },
  {
   "cell_type": "code",
   "execution_count": 4,
   "metadata": {},
   "outputs": [
    {
     "name": "stdout",
     "output_type": "stream",
     "text": [
      "<class 'pandas.core.frame.DataFrame'>\n",
      "RangeIndex: 60690 entries, 0 to 60689\n",
      "Data columns (total 13 columns):\n",
      " #   Column           Non-Null Count  Dtype  \n",
      "---  ------           --------------  -----  \n",
      " 0   Category         60690 non-null  object \n",
      " 1   UserName         52032 non-null  object \n",
      " 2   Product          60690 non-null  object \n",
      " 3   UserReviewTitle  52032 non-null  object \n",
      " 4   Url              60690 non-null  object \n",
      " 5   Brand            60690 non-null  object \n",
      " 6   ReviewText       52031 non-null  object \n",
      " 7   Rank             52032 non-null  float64\n",
      " 8   OverallScore     52032 non-null  float64\n",
      " 9   Featured         52032 non-null  float64\n",
      " 10  UserRating       52032 non-null  float64\n",
      " 11  Date             52032 non-null  object \n",
      " 12  ReviewTextMore   7965 non-null   object \n",
      "dtypes: float64(4), object(9)\n",
      "memory usage: 6.0+ MB\n"
     ]
    }
   ],
   "source": [
    "df.info()"
   ]
  },
  {
   "cell_type": "code",
   "execution_count": 5,
   "metadata": {},
   "outputs": [
    {
     "data": {
      "text/plain": [
       "22"
      ]
     },
     "execution_count": 5,
     "metadata": {},
     "output_type": "execute_result"
    }
   ],
   "source": [
    "df.Category.nunique()"
   ]
  },
  {
   "cell_type": "code",
   "execution_count": 6,
   "metadata": {},
   "outputs": [
    {
     "data": {
      "text/html": [
       "<div>\n",
       "<style scoped>\n",
       "    .dataframe tbody tr th:only-of-type {\n",
       "        vertical-align: middle;\n",
       "    }\n",
       "\n",
       "    .dataframe tbody tr th {\n",
       "        vertical-align: top;\n",
       "    }\n",
       "\n",
       "    .dataframe thead th {\n",
       "        text-align: right;\n",
       "    }\n",
       "</style>\n",
       "<table border=\"1\" class=\"dataframe\">\n",
       "  <thead>\n",
       "    <tr style=\"text-align: right;\">\n",
       "      <th></th>\n",
       "      <th>Category</th>\n",
       "      <th>UserName</th>\n",
       "      <th>Product</th>\n",
       "      <th>Brand</th>\n",
       "      <th>ReviewText</th>\n",
       "      <th>Rank</th>\n",
       "      <th>OverallScore</th>\n",
       "      <th>Featured</th>\n",
       "      <th>UserRating</th>\n",
       "      <th>Date</th>\n",
       "    </tr>\n",
       "  </thead>\n",
       "  <tbody>\n",
       "    <tr>\n",
       "      <th>0</th>\n",
       "      <td>More Anti-Aging</td>\n",
       "      <td>pynkNymphette</td>\n",
       "      <td>Elemis Pro-Collagen Marine Cream</td>\n",
       "      <td>Elemis Product Reviews</td>\n",
       "      <td>Crrrraaazzzyyyy expensive! But it works so gre...</td>\n",
       "      <td>1.0</td>\n",
       "      <td>9.3</td>\n",
       "      <td>1.0</td>\n",
       "      <td>8.0</td>\n",
       "      <td>— 6 years, 2 months ago</td>\n",
       "    </tr>\n",
       "    <tr>\n",
       "      <th>1</th>\n",
       "      <td>More Anti-Aging</td>\n",
       "      <td>corina</td>\n",
       "      <td>Elemis Pro-Collagen Marine Cream</td>\n",
       "      <td>Elemis Product Reviews</td>\n",
       "      <td>WOW . . . .this is a really good product. I fi...</td>\n",
       "      <td>2.0</td>\n",
       "      <td>9.3</td>\n",
       "      <td>0.0</td>\n",
       "      <td>10.0</td>\n",
       "      <td>— 3 years, 11 months ago</td>\n",
       "    </tr>\n",
       "    <tr>\n",
       "      <th>2</th>\n",
       "      <td>More Anti-Aging</td>\n",
       "      <td>Kathrina</td>\n",
       "      <td>Elemis Pro-Collagen Marine Cream</td>\n",
       "      <td>Elemis Product Reviews</td>\n",
       "      <td>I started using the Elemis line about 6 months...</td>\n",
       "      <td>3.0</td>\n",
       "      <td>9.3</td>\n",
       "      <td>0.0</td>\n",
       "      <td>10.0</td>\n",
       "      <td>— 9 years, 2 months ago</td>\n",
       "    </tr>\n",
       "    <tr>\n",
       "      <th>3</th>\n",
       "      <td>More Anti-Aging</td>\n",
       "      <td>alicia_acedo</td>\n",
       "      <td>Elemis Pro-Collagen Marine Cream</td>\n",
       "      <td>Elemis Product Reviews</td>\n",
       "      <td>I had a complete facial, on a Carnival cruise ...</td>\n",
       "      <td>4.0</td>\n",
       "      <td>9.3</td>\n",
       "      <td>0.0</td>\n",
       "      <td>10.0</td>\n",
       "      <td>— 3 years, 5 months ago</td>\n",
       "    </tr>\n",
       "    <tr>\n",
       "      <th>4</th>\n",
       "      <td>More Anti-Aging</td>\n",
       "      <td>sonia_silveroli</td>\n",
       "      <td>Elemis Pro-Collagen Marine Cream</td>\n",
       "      <td>Elemis Product Reviews</td>\n",
       "      <td>I purchased this a few years ago and WOW, just...</td>\n",
       "      <td>5.0</td>\n",
       "      <td>9.3</td>\n",
       "      <td>0.0</td>\n",
       "      <td>10.0</td>\n",
       "      <td>— 5 years, 5 months ago</td>\n",
       "    </tr>\n",
       "  </tbody>\n",
       "</table>\n",
       "</div>"
      ],
      "text/plain": [
       "          Category         UserName                           Product  \\\n",
       "0  More Anti-Aging    pynkNymphette  Elemis Pro-Collagen Marine Cream   \n",
       "1  More Anti-Aging           corina  Elemis Pro-Collagen Marine Cream   \n",
       "2  More Anti-Aging         Kathrina  Elemis Pro-Collagen Marine Cream   \n",
       "3  More Anti-Aging     alicia_acedo  Elemis Pro-Collagen Marine Cream   \n",
       "4  More Anti-Aging  sonia_silveroli  Elemis Pro-Collagen Marine Cream   \n",
       "\n",
       "                    Brand                                         ReviewText  \\\n",
       "0  Elemis Product Reviews  Crrrraaazzzyyyy expensive! But it works so gre...   \n",
       "1  Elemis Product Reviews  WOW . . . .this is a really good product. I fi...   \n",
       "2  Elemis Product Reviews  I started using the Elemis line about 6 months...   \n",
       "3  Elemis Product Reviews  I had a complete facial, on a Carnival cruise ...   \n",
       "4  Elemis Product Reviews  I purchased this a few years ago and WOW, just...   \n",
       "\n",
       "   Rank  OverallScore  Featured  UserRating                      Date  \n",
       "0   1.0           9.3       1.0         8.0   — 6 years, 2 months ago  \n",
       "1   2.0           9.3       0.0        10.0  — 3 years, 11 months ago  \n",
       "2   3.0           9.3       0.0        10.0   — 9 years, 2 months ago  \n",
       "3   4.0           9.3       0.0        10.0   — 3 years, 5 months ago  \n",
       "4   5.0           9.3       0.0        10.0   — 5 years, 5 months ago  "
      ]
     },
     "execution_count": 6,
     "metadata": {},
     "output_type": "execute_result"
    }
   ],
   "source": [
    "#reduce datafame for ease of use\n",
    "skindf = df.drop(['UserReviewTitle', 'Url', 'ReviewTextMore'], axis=1);\n",
    "skindf.head()"
   ]
  },
  {
   "cell_type": "markdown",
   "metadata": {},
   "source": [
    "## Original Dataframe EDA & Basic Metrics"
   ]
  },
  {
   "cell_type": "code",
   "execution_count": 7,
   "metadata": {},
   "outputs": [
    {
     "name": "stdout",
     "output_type": "stream",
     "text": [
      "Total number of users: 24071.  Total number of products: 14854.  Total number of categories: 22\n"
     ]
    }
   ],
   "source": [
    "#how many unique products & unique users\n",
    "users_count = df['UserName'].nunique()\n",
    "products_count = df['Product'].nunique();\n",
    "category_count = df['Category'].nunique();\n",
    "print(f'Total number of users: {users_count}.  Total number of products: {products_count}.  Total number of categories: {category_count}')"
   ]
  },
  {
   "cell_type": "code",
   "execution_count": 8,
   "metadata": {},
   "outputs": [
    {
     "data": {
      "image/png": "[encoded data removed]",
      "text/plain": [
       "<Figure size 432x288 with 1 Axes>"
      ]
     },
     "metadata": {
      "needs_background": "light"
     },
     "output_type": "display_data"
    }
   ],
   "source": [
    "#histogram of user ratings\n",
    "df['UserRating'].hist();"
   ]
  },
  {
   "cell_type": "code",
   "execution_count": 9,
   "metadata": {},
   "outputs": [
    {
     "data": {
      "text/plain": [
       "More Moisturizer                       12034\n",
       "More Cleanser                          10950\n",
       "More Anti-Aging                         7014\n",
       "More Eye Treatments                     4190\n",
       "More Blemish + Acne Control             3923\n",
       "More Masks, Peels                       3083\n",
       "More Exfoliators, Scrubs                3055\n",
       "More Makeup Remover                     2625\n",
       "More Toners, Astringents                2219\n",
       "More Night Cream                        2085\n",
       "More Sun Protection                     1552\n",
       "More Self Tanners                       1324\n",
       "More Tools + Appliances                 1319\n",
       "More Toothpaste + Breath Freshener      1262\n",
       "More Lip Plumper                         956\n",
       "More Oral Care                           649\n",
       "More Dermatology Treatments & Peels      631\n",
       "More Lightening Cream                    610\n",
       "More Ingestibles + Supplements           513\n",
       "More Microdermabrasion                   410\n",
       "More Lip Exfoliant                       284\n",
       "More                                       2\n",
       "Name: Category, dtype: int64"
      ]
     },
     "execution_count": 9,
     "metadata": {},
     "output_type": "execute_result"
    }
   ],
   "source": [
    "category = df.Category.value_counts()\n",
    "category"
   ]
  },
  {
   "cell_type": "markdown",
   "metadata": {},
   "source": [
    "## Make skincare dataframe for reduced scope"
   ]
  },
  {
   "cell_type": "code",
   "execution_count": 10,
   "metadata": {},
   "outputs": [],
   "source": [
    "#make skincare dataframe for more specific recommender"
   ]
  },
  {
   "cell_type": "code",
   "execution_count": 11,
   "metadata": {},
   "outputs": [
    {
     "name": "stdout",
     "output_type": "stream",
     "text": [
      "<class 'pandas.core.frame.DataFrame'>\n",
      "Int64Index: 43967 entries, 0 to 60689\n",
      "Data columns (total 13 columns):\n",
      " #   Column           Non-Null Count  Dtype  \n",
      "---  ------           --------------  -----  \n",
      " 0   Category         43967 non-null  object \n",
      " 1   UserName         37760 non-null  object \n",
      " 2   Product          43967 non-null  object \n",
      " 3   UserReviewTitle  37760 non-null  object \n",
      " 4   Url              43967 non-null  object \n",
      " 5   Brand            43967 non-null  object \n",
      " 6   ReviewText       37760 non-null  object \n",
      " 7   Rank             37760 non-null  float64\n",
      " 8   OverallScore     37760 non-null  float64\n",
      " 9   Featured         37760 non-null  float64\n",
      " 10  UserRating       37760 non-null  float64\n",
      " 11  Date             37760 non-null  object \n",
      " 12  ReviewTextMore   5922 non-null   object \n",
      "dtypes: float64(4), object(9)\n",
      "memory usage: 4.7+ MB\n"
     ]
    }
   ],
   "source": [
    "skindf = df.query('Category == [\"More Moisturizer\",\"More Cleanser\",\"More Anti-Aging\",\"More Eye Treatments\",\"More Blemish + Acne Control\",\"More Masks, Peels, More Exfoliators, Scrubs\",\"More Toners, Astringents\",\"More Night Cream\",\"More Sun Protection\"]')\n",
    "skindf.info()\n",
    "#for now leave in unrated products"
   ]
  },
  {
   "cell_type": "code",
   "execution_count": 12,
   "metadata": {},
   "outputs": [
    {
     "data": {
      "image/png": "[encoded data removed]",
      "text/plain": [
       "<Figure size 432x288 with 1 Axes>"
      ]
     },
     "metadata": {
      "needs_background": "light"
     },
     "output_type": "display_data"
    }
   ],
   "source": [
    "#histogram of user ratings\n",
    "skindf['UserRating'].hist();"
   ]
  },
  {
   "cell_type": "code",
   "execution_count": 13,
   "metadata": {},
   "outputs": [],
   "source": [
    "category_list = [\"More Moisturizer\",\"More Cleanser\",\"More Anti-Aging\",\"More Eye Treatments\",\"More Blemish + Acne Control\",\"More Masks, Peels, More Exfoliators, Scrubs\",\"More Toners, Astringents\",\"More Night Cream\",\"More Sun Protection\"]"
   ]
  },
  {
   "cell_type": "code",
   "execution_count": 14,
   "metadata": {},
   "outputs": [
    {
     "data": {
      "text/plain": [
       "More Moisturizer               12034\n",
       "More Cleanser                  10950\n",
       "More Anti-Aging                 7014\n",
       "More Eye Treatments             4190\n",
       "More Blemish + Acne Control     3923\n",
       "More Toners, Astringents        2219\n",
       "More Night Cream                2085\n",
       "More Sun Protection             1552\n",
       "Name: Category, dtype: int64"
      ]
     },
     "execution_count": 14,
     "metadata": {},
     "output_type": "execute_result"
    }
   ],
   "source": [
    "skindf.Category.value_counts()"
   ]
  },
  {
   "cell_type": "code",
   "execution_count": 15,
   "metadata": {},
   "outputs": [],
   "source": [
    "#skindf.iloc[:4, 1]\n",
    "#skindf.loc[:,'Category']"
   ]
  },
  {
   "cell_type": "code",
   "execution_count": 16,
   "metadata": {},
   "outputs": [
    {
     "name": "stdout",
     "output_type": "stream",
     "text": [
      "<class 'pandas.core.frame.DataFrame'>\n",
      "Int64Index: 43967 entries, 0 to 60689\n",
      "Data columns (total 13 columns):\n",
      " #   Column           Non-Null Count  Dtype  \n",
      "---  ------           --------------  -----  \n",
      " 0   Category         43967 non-null  object \n",
      " 1   UserName         37760 non-null  object \n",
      " 2   Product          43967 non-null  object \n",
      " 3   UserReviewTitle  37760 non-null  object \n",
      " 4   Url              43967 non-null  object \n",
      " 5   Brand            43967 non-null  object \n",
      " 6   ReviewText       37760 non-null  object \n",
      " 7   Rank             37760 non-null  float64\n",
      " 8   OverallScore     37760 non-null  float64\n",
      " 9   Featured         37760 non-null  float64\n",
      " 10  UserRating       37760 non-null  float64\n",
      " 11  Date             37760 non-null  object \n",
      " 12  ReviewTextMore   5922 non-null   object \n",
      "dtypes: float64(4), object(9)\n",
      "memory usage: 4.7+ MB\n"
     ]
    }
   ],
   "source": [
    "skindf.info()"
   ]
  },
  {
   "cell_type": "code",
   "execution_count": null,
   "metadata": {},
   "outputs": [],
   "source": []
  },
  {
   "cell_type": "code",
   "execution_count": 17,
   "metadata": {},
   "outputs": [
    {
     "name": "stdout",
     "output_type": "stream",
     "text": [
      "<class 'pandas.core.frame.DataFrame'>\n",
      "Int64Index: 37760 entries, 0 to 51988\n",
      "Data columns (total 11 columns):\n",
      " #   Column           Non-Null Count  Dtype  \n",
      "---  ------           --------------  -----  \n",
      " 0   Category         37760 non-null  object \n",
      " 1   UserName         37760 non-null  object \n",
      " 2   Product          37760 non-null  object \n",
      " 3   UserReviewTitle  37760 non-null  object \n",
      " 4   Brand            37760 non-null  object \n",
      " 5   ReviewText       37760 non-null  object \n",
      " 6   Rank             37760 non-null  float64\n",
      " 7   OverallScore     37760 non-null  float64\n",
      " 8   Featured         37760 non-null  float64\n",
      " 9   UserRating       37760 non-null  float64\n",
      " 10  Date             37760 non-null  object \n",
      "dtypes: float64(4), object(7)\n",
      "memory usage: 3.5+ MB\n"
     ]
    }
   ],
   "source": [
    "skindf = skindf[skindf['UserName'].notnull()]\n",
    "skindf.drop(['ReviewTextMore'], axis=1, inplace=True)\n",
    "skindf.drop(['Url'], axis=1, inplace=True);\n",
    "skindf.info()"
   ]
  },
  {
   "cell_type": "markdown",
   "metadata": {},
   "source": [
    "## Item - Item Recommender"
   ]
  },
  {
   "cell_type": "code",
   "execution_count": 18,
   "metadata": {},
   "outputs": [
    {
     "name": "stdout",
     "output_type": "stream",
     "text": [
      "<class 'pandas.core.frame.DataFrame'>\n",
      "Int64Index: 37760 entries, 0 to 51988\n",
      "Data columns (total 3 columns):\n",
      " #   Column      Non-Null Count  Dtype  \n",
      "---  ------      --------------  -----  \n",
      " 0   UserName    37760 non-null  object \n",
      " 1   Product     37760 non-null  object \n",
      " 2   UserRating  37760 non-null  float64\n",
      "dtypes: float64(1), object(2)\n",
      "memory usage: 1.2+ MB\n"
     ]
    }
   ],
   "source": [
    "itemitem = skindf.drop(['Category', 'UserReviewTitle', 'Brand', 'ReviewText', 'Rank','OverallScore', 'Featured', 'Date'], axis=1);\n",
    "itemitem.info()"
   ]
  },
  {
   "cell_type": "code",
   "execution_count": 19,
   "metadata": {},
   "outputs": [
    {
     "data": {
      "text/html": [
       "<div>\n",
       "<style scoped>\n",
       "    .dataframe tbody tr th:only-of-type {\n",
       "        vertical-align: middle;\n",
       "    }\n",
       "\n",
       "    .dataframe tbody tr th {\n",
       "        vertical-align: top;\n",
       "    }\n",
       "\n",
       "    .dataframe thead th {\n",
       "        text-align: right;\n",
       "    }\n",
       "</style>\n",
       "<table border=\"1\" class=\"dataframe\">\n",
       "  <thead>\n",
       "    <tr style=\"text-align: right;\">\n",
       "      <th></th>\n",
       "      <th>UserName</th>\n",
       "      <th>Product</th>\n",
       "      <th>UserRating</th>\n",
       "    </tr>\n",
       "  </thead>\n",
       "  <tbody>\n",
       "    <tr>\n",
       "      <th>44731</th>\n",
       "      <td>Kate8817</td>\n",
       "      <td>Zapzyt 10% Benzoyl Peroxide Acne Treatment Gel</td>\n",
       "      <td>1.0</td>\n",
       "    </tr>\n",
       "    <tr>\n",
       "      <th>10472</th>\n",
       "      <td>amazinggrace15</td>\n",
       "      <td>Nu Skin AgeLoc Future Serum</td>\n",
       "      <td>10.0</td>\n",
       "    </tr>\n",
       "    <tr>\n",
       "      <th>33338</th>\n",
       "      <td>Elise0007</td>\n",
       "      <td>N.V. Perricone Pore Refining Toner Pads (Acne ...</td>\n",
       "      <td>2.0</td>\n",
       "    </tr>\n",
       "    <tr>\n",
       "      <th>12608</th>\n",
       "      <td>strawberrysnafu</td>\n",
       "      <td>Phisoderm Clarifying Gel Facial Moisturizer</td>\n",
       "      <td>9.0</td>\n",
       "    </tr>\n",
       "    <tr>\n",
       "      <th>10462</th>\n",
       "      <td>ambreprn</td>\n",
       "      <td>Philosophy Purity Made Simple Foaming 3-in-1 C...</td>\n",
       "      <td>10.0</td>\n",
       "    </tr>\n",
       "    <tr>\n",
       "      <th>...</th>\n",
       "      <td>...</td>\n",
       "      <td>...</td>\n",
       "      <td>...</td>\n",
       "    </tr>\n",
       "    <tr>\n",
       "      <th>46870</th>\n",
       "      <td>caitlin_bickel</td>\n",
       "      <td>Simple Facial Exfoliating Wipes</td>\n",
       "      <td>3.0</td>\n",
       "    </tr>\n",
       "    <tr>\n",
       "      <th>13847</th>\n",
       "      <td>ann_lavine</td>\n",
       "      <td>Clinique Rinse-Off Foaming Cleanser</td>\n",
       "      <td>5.0</td>\n",
       "    </tr>\n",
       "    <tr>\n",
       "      <th>17479</th>\n",
       "      <td>annsw13</td>\n",
       "      <td>Olay Foaming Face Wash for Sensitive Skin</td>\n",
       "      <td>9.0</td>\n",
       "    </tr>\n",
       "    <tr>\n",
       "      <th>6218</th>\n",
       "      <td>kimmi_o</td>\n",
       "      <td>Crabtree &amp; Evelyn Skin Care Routine Balancing ...</td>\n",
       "      <td>10.0</td>\n",
       "    </tr>\n",
       "    <tr>\n",
       "      <th>46325</th>\n",
       "      <td>obummyo</td>\n",
       "      <td>Biore Deep Cleansing Pore Strips</td>\n",
       "      <td>8.0</td>\n",
       "    </tr>\n",
       "  </tbody>\n",
       "</table>\n",
       "<p>37760 rows × 3 columns</p>\n",
       "</div>"
      ],
      "text/plain": [
       "              UserName                                            Product  \\\n",
       "44731         Kate8817     Zapzyt 10% Benzoyl Peroxide Acne Treatment Gel   \n",
       "10472   amazinggrace15                        Nu Skin AgeLoc Future Serum   \n",
       "33338        Elise0007  N.V. Perricone Pore Refining Toner Pads (Acne ...   \n",
       "12608  strawberrysnafu        Phisoderm Clarifying Gel Facial Moisturizer   \n",
       "10462         ambreprn  Philosophy Purity Made Simple Foaming 3-in-1 C...   \n",
       "...                ...                                                ...   \n",
       "46870   caitlin_bickel                    Simple Facial Exfoliating Wipes   \n",
       "13847       ann_lavine                Clinique Rinse-Off Foaming Cleanser   \n",
       "17479          annsw13          Olay Foaming Face Wash for Sensitive Skin   \n",
       "6218           kimmi_o  Crabtree & Evelyn Skin Care Routine Balancing ...   \n",
       "46325          obummyo                   Biore Deep Cleansing Pore Strips   \n",
       "\n",
       "       UserRating  \n",
       "44731         1.0  \n",
       "10472        10.0  \n",
       "33338         2.0  \n",
       "12608         9.0  \n",
       "10462        10.0  \n",
       "...           ...  \n",
       "46870         3.0  \n",
       "13847         5.0  \n",
       "17479         9.0  \n",
       "6218         10.0  \n",
       "46325         8.0  \n",
       "\n",
       "[37760 rows x 3 columns]"
      ]
     },
     "execution_count": 19,
     "metadata": {},
     "output_type": "execute_result"
    }
   ],
   "source": [
    "#shuffle rows and return all rows\n",
    "itemitem.sample(frac=1)"
   ]
  },
  {
   "cell_type": "code",
   "execution_count": 20,
   "metadata": {},
   "outputs": [
    {
     "data": {
      "text/plain": [
       "(19396, 4621)"
      ]
     },
     "execution_count": 20,
     "metadata": {},
     "output_type": "execute_result"
    }
   ],
   "source": [
    "itemitem.UserName.nunique(), itemitem.Product.nunique()"
   ]
  },
  {
   "cell_type": "code",
   "execution_count": 21,
   "metadata": {},
   "outputs": [
    {
     "name": "stdout",
     "output_type": "stream",
     "text": [
      "<class 'pandas.core.frame.DataFrame'>\n",
      "Int64Index: 37760 entries, 0 to 51988\n",
      "Data columns (total 3 columns):\n",
      " #   Column      Non-Null Count  Dtype  \n",
      "---  ------      --------------  -----  \n",
      " 0   UserName    37760 non-null  object \n",
      " 1   Product     37760 non-null  object \n",
      " 2   UserRating  37760 non-null  float64\n",
      "dtypes: float64(1), object(2)\n",
      "memory usage: 1.2+ MB\n"
     ]
    }
   ],
   "source": [
    "itemitem.info()"
   ]
  },
  {
   "cell_type": "code",
   "execution_count": null,
   "metadata": {},
   "outputs": [],
   "source": []
  },
  {
   "cell_type": "code",
   "execution_count": 22,
   "metadata": {},
   "outputs": [],
   "source": [
    "import random\n",
    "import numpy as np\n",
    "\n",
    "from surprise import SVD\n",
    "from surprise import Dataset\n",
    "from surprise import NormalPredictor\n",
    "from surprise import Reader\n",
    "from surprise.model_selection import cross_validate\n",
    "from surprise import accuracy\n",
    "from surprise.model_selection import GridSearchCV\n",
    "from surprise.model_selection import KFold\n",
    "\n",
    "\n",
    "my_seed = 19\n",
    "random.seed(my_seed)\n",
    "np.random.seed(my_seed)"
   ]
  },
  {
   "cell_type": "code",
   "execution_count": 23,
   "metadata": {},
   "outputs": [
    {
     "data": {
      "text/plain": [
       "{'test_rmse': array([3.32805636, 3.35696252]),\n",
       " 'test_mae': array([2.53694065, 2.54907936]),\n",
       " 'fit_time': (0.03272509574890137, 0.03551888465881348),\n",
       " 'test_time': (0.26746702194213867, 0.16671323776245117)}"
      ]
     },
     "execution_count": 23,
     "metadata": {},
     "output_type": "execute_result"
    }
   ],
   "source": [
    "\n",
    "# A reader is still needed but only the rating_scale param is requiered.\n",
    "reader = Reader(rating_scale=(1, 10))\n",
    "\n",
    "# The columns must correspond to user id, item id and ratings (in that order).\n",
    "data = Dataset.load_from_df(itemitem[['UserName', 'Product', 'UserRating']], reader)\n",
    "\n",
    "# We can now use this dataset as we please, e.g. calling cross_validate\n",
    "cross_validate(NormalPredictor(), data, cv=2)"
   ]
  },
  {
   "cell_type": "code",
   "execution_count": 24,
   "metadata": {},
   "outputs": [
    {
     "name": "stdout",
     "output_type": "stream",
     "text": [
      "RMSE: 2.3794\n",
      "RMSE: 2.3537\n",
      "RMSE: 2.3902\n"
     ]
    }
   ],
   "source": [
    "# define a cross-validation iterator\n",
    "kf = KFold(n_splits=3)\n",
    "\n",
    "algo = SVD()\n",
    "\n",
    "for trainset, testset in kf.split(data):\n",
    "\n",
    "    # train and test algorithm.\n",
    "    algo.fit(trainset)\n",
    "    predictions = algo.test(testset)\n",
    "\n",
    "    # Compute and print Root Mean Squared Error\n",
    "    accuracy.rmse(predictions, verbose=True)"
   ]
  },
  {
   "cell_type": "code",
   "execution_count": 25,
   "metadata": {},
   "outputs": [
    {
     "name": "stdout",
     "output_type": "stream",
     "text": [
      "2.4005266917929795\n",
      "{'n_epochs': 10, 'lr_all': 0.005, 'reg_all': 0.4}\n"
     ]
    }
   ],
   "source": [
    "from surprise import SVD\n",
    "from surprise import Dataset\n",
    "from surprise.model_selection import GridSearchCV\n",
    "\n",
    "\n",
    "param_grid = {'n_epochs': [5, 10], 'lr_all': [0.002, 0.005],\n",
    "              'reg_all': [0.4, 0.6]}\n",
    "gs = GridSearchCV(SVD, param_grid, measures=['rmse', 'mae'], cv=3)\n",
    "\n",
    "gs.fit(data)\n",
    "\n",
    "# best RMSE score\n",
    "print(gs.best_score['rmse'])\n",
    "\n",
    "# combination of parameters that gave the best RMSE score\n",
    "print(gs.best_params['rmse'])"
   ]
  },
  {
   "cell_type": "code",
   "execution_count": 26,
   "metadata": {},
   "outputs": [],
   "source": [
    "algo = gs.best_estimator['rmse']\n"
   ]
  },
  {
   "cell_type": "code",
   "execution_count": null,
   "metadata": {},
   "outputs": [],
   "source": []
  },
  {
   "cell_type": "code",
   "execution_count": 27,
   "metadata": {},
   "outputs": [
    {
     "name": "stdout",
     "output_type": "stream",
     "text": [
      "Number of users:  14493 \n",
      "\n",
      "Number of items:  3987 \n",
      "\n"
     ]
    }
   ],
   "source": [
    "print('Number of users: ', trainset.n_users, '\\n')\n",
    "print('Number of items: ', trainset.n_items, '\\n')"
   ]
  },
  {
   "cell_type": "code",
   "execution_count": null,
   "metadata": {},
   "outputs": [],
   "source": []
  },
  {
   "cell_type": "code",
   "execution_count": 28,
   "metadata": {},
   "outputs": [],
   "source": [
    "from collections import defaultdict\n",
    "\n",
    "from surprise import SVD\n",
    "from surprise import Dataset\n",
    "\n",
    "\n",
    "def get_top_n(predictions, n=10):\n",
    "    '''Return the top-N recommendation for each user from a set of predictions.\n",
    "\n",
    "    Args:\n",
    "        predictions(list of Prediction objects): The list of predictions, as\n",
    "            returned by the test method of an algorithm.\n",
    "        n(int): The number of recommendation to output for each user. Default\n",
    "            is 10.\n",
    "\n",
    "    Returns:\n",
    "    A dict where keys are user (raw) ids and values are lists of tuples:\n",
    "        [(raw item id, rating estimation), ...] of size n.\n",
    "    '''\n",
    "\n",
    "    # First map the predictions to each user.\n",
    "    top_n = defaultdict(list)\n",
    "    for uid, iid, true_r, est, _ in predictions:\n",
    "        top_n[uid].append((iid, est))\n",
    "\n",
    "    # Then sort the predictions for each user and retrieve the k highest ones.\n",
    "    for uid, user_ratings in top_n.items():\n",
    "        user_ratings.sort(key=lambda x: x[1], reverse=True)\n",
    "        top_n[uid] = user_ratings[:n]\n",
    "\n",
    "    return top_n\n",
    "\n",
    "\n",
    "# First train an SVD algorithm on the movielens dataset.\n",
    "trainset = data.build_full_trainset()\n",
    "algo = gs.best_estimator['rmse']\n",
    "algo.fit(trainset)\n",
    "\n",
    "# Than predict ratings for all pairs (u, i) that are NOT in the training set.\n",
    "testset = trainset.build_anti_testset()\n",
    "predictions = algo.test(testset)\n",
    "\n"
   ]
  },
  {
   "cell_type": "code",
   "execution_count": 29,
   "metadata": {},
   "outputs": [],
   "source": [
    "top_n = get_top_n(predictions, n=10)\n",
    "\n",
    "# # Print the recommended items for each user\n",
    "# for uid, user_ratings in top_n.items():\n",
    "#     print(uid, [iid for (iid, _) in user_ratings])"
   ]
  },
  {
   "cell_type": "code",
   "execution_count": 30,
   "metadata": {},
   "outputs": [
    {
     "name": "stdout",
     "output_type": "stream",
     "text": [
      "('pynkNymphette', [('Nu Skin AgeLoc Future Serum', 8.95521667171845), ('DHC Deep Cleansing Oil', 8.72568371609157), ('Vine Vera Resveratrol Chianti Overnight Recovery', 8.63161872319324), ('Mary Kay After-Sun Replenishing Gel', 8.628289805739852), ('Pristine Beauty Hooray for Brallywood Butta Luxe Intensive Facial Creme', 8.592297666142509), ('Elanveda Skin Renue', 8.546768016611301), ('Suki Exfoliate Foaming Cleanser', 8.535734493954092), ('Principal Secret Reclaim Total Facial Cleanser', 8.534346980216975), ('Olay Active Hydrating Beauty Fluid Lotion - Original', 8.533191308469311), ('Revive Sensitif Cellular Repair Cream', 8.533065414000164)])\n",
      "('corina', [('Nu Skin AgeLoc Future Serum', 9.072914186623862), ('M.A.C. Mineralize Charged Water: Revitalizing Energy', 8.912455773045945), ('DHC Deep Cleansing Oil', 8.80643795940901), ('Vine Vera Resveratrol Chianti Overnight Recovery', 8.727029769294314), ('Elanveda Skin Renue', 8.701577980562668), ('Suki Exfoliate Foaming Cleanser', 8.69333001055455), ('Liz Earle Cleanse & Polish Hot Cloth Cleanser', 8.666747690713986), ('Mary Kay After-Sun Replenishing Gel', 8.638952287005981), ('Pristine Beauty Hooray for Brallywood Butta Luxe Intensive Facial Creme', 8.630248039611274), ('Ultimate Sun Protection Lotion WetForce Broad Spectrum SPF 50+', 8.616970779181596)])\n",
      "('Kathrina', [('Nu Skin AgeLoc Future Serum', 9.015385690980482), ('DHC Deep Cleansing Oil', 8.730923806453665), ('Vine Vera Resveratrol Chianti Overnight Recovery', 8.645212470193586), ('M.A.C. Mineralize Charged Water: Revitalizing Energy', 8.605709486448488), ('Liz Earle Cleanse & Polish Hot Cloth Cleanser', 8.548513507138372), ('Elanveda Skin Renue', 8.543681635939818), ('Mary Kay After-Sun Replenishing Gel', 8.53299606172239), ('Pristine Beauty Hooray for Brallywood Butta Luxe Intensive Facial Creme', 8.527526812930839), ('Obagi Nu-Derm Transformation System', 8.514455399299734), ('Ultimate Sun Protection Lotion WetForce Broad Spectrum SPF 50+', 8.507336202126346)])\n",
      "('alicia_acedo', [('Nu Skin AgeLoc Future Serum', 9.410132784895788), ('DHC Deep Cleansing Oil', 9.162061489533817), ('Mary Kay After-Sun Replenishing Gel', 9.148120742417428), ('Ultimate Sun Protection Lotion WetForce Broad Spectrum SPF 50+', 9.12945004993758), ('Vichy Laboratories Normaderm Night Chrono-Action Anti-Imperfection Hydrating Care', 9.086617738156836), ('M.A.C. Mineralize Charged Water: Revitalizing Energy', 9.069447140807528), ('Vine Vera Resveratrol Chianti Overnight Recovery', 9.051020304569466), ('Elanveda Skin Renue', 9.004168150903919), ('Suki Exfoliate Foaming Cleanser', 8.996833681774538), ('Obagi Nu-Derm Transformation System', 8.96301914617071)])\n",
      "('sonia_silveroli', [('Nu Skin AgeLoc Future Serum', 9.432940057788128), ('DHC Deep Cleansing Oil', 9.218066519772801), ('Vine Vera Resveratrol Chianti Overnight Recovery', 9.115594236264968), ('Elanveda Skin Renue', 9.083867487463104), ('M.A.C. Mineralize Charged Water: Revitalizing Energy', 9.075355711051584), ('Pristine Beauty Hooray for Brallywood Butta Luxe Intensive Facial Creme', 9.072659547979434), ('Mary Kay After-Sun Replenishing Gel', 9.011448137957936), ('Olay Active Hydrating Beauty Fluid Lotion - Original', 9.007692259532874), ('Ultimate Sun Protection Lotion WetForce Broad Spectrum SPF 50+', 9.002664957006072), ('Principal Secret Reclaim Total Facial Cleanser', 8.99155509657624)])\n"
     ]
    },
    {
     "data": {
      "text/plain": [
       "[None, None, None, None, None]"
      ]
     },
     "execution_count": 30,
     "metadata": {},
     "output_type": "execute_result"
    }
   ],
   "source": [
    "[print(v) for i, v in enumerate(top_n.items()) if i < 5]"
   ]
  },
  {
   "cell_type": "code",
   "execution_count": 31,
   "metadata": {},
   "outputs": [
    {
     "name": "stdout",
     "output_type": "stream",
     "text": [
      "89591266\n"
     ]
    }
   ],
   "source": [
    "print(len(predictions))"
   ]
  },
  {
   "cell_type": "code",
   "execution_count": null,
   "metadata": {},
   "outputs": [],
   "source": []
  },
  {
   "cell_type": "code",
   "execution_count": 32,
   "metadata": {},
   "outputs": [],
   "source": [
    "# import random                                                              \n",
    "                                                                                                                   \n",
    "                                                                           \n",
    "# # Load your full dataset.                                                  \n",
    "# # A reader is still needed but only the rating_scale param is requiered.\n",
    "# reader = Reader(rating_scale=(1, 10))\n",
    "\n",
    "# # The columns must correspond to user id, item id and ratings (in that order).\n",
    "# data = Dataset.load_from_df(itemitem[['UserName', 'Product', 'UserRating']], reader)  \n",
    "\n",
    "\n",
    "# raw_ratings = data.raw_ratings                                             \n",
    "                                                                           \n",
    "# # shuffle ratings if you want                                              \n",
    "# random.shuffle(raw_ratings)                                                \n",
    "                                                                           \n",
    "# # 80% trainset, 20% testset                                                \n",
    "# threshold = int(.8 * len(raw_ratings))                                     \n",
    "# trainset_raw_ratings = raw_ratings[:threshold]                             \n",
    "# test_raw_ratings = raw_ratings[threshold:]                                 \n",
    "                                                                           \n",
    "# data.raw_ratings = trainset_raw_ratings  # data is now your trainset       \n",
    "# data.split(n_folds=3)                                                      \n",
    "                                                                           \n",
    "# # Select your best algo with grid search. Verbosity is buggy, I'll fix it. \n",
    "# print('GRID SEARCH...')                                                    \n",
    "# param_grid = {'n_epochs': [5, 10], 'lr_all': [0.002, 0.005]}               \n",
    "# grid_search = GridSearch(SVD, param_grid, measures=['RMSE'], verbose=0)    \n",
    "# grid_search.evaluate(data)                                                 \n",
    "                                                                           \n",
    "# algo = grid_search.best_estimator['RMSE']                                  \n",
    "                                                                           \n",
    "# # retrain on the whole train set                                           \n",
    "# trainset = data.build_full_trainset()                                      \n",
    "# algo.train(trainset)                                                       \n",
    "                                                                           \n",
    "# # now test on the trainset                                                 \n",
    "# testset = data.construct_testset(trainset_raw_ratings)                     \n",
    "# predictions = algo.test(testset)                                           \n",
    "# print('Accuracy on the trainset:')                                         \n",
    "# accuracy.rmse(predictions) "
   ]
  },
  {
   "cell_type": "code",
   "execution_count": null,
   "metadata": {},
   "outputs": [],
   "source": []
  },
  {
   "cell_type": "code",
   "execution_count": null,
   "metadata": {},
   "outputs": [],
   "source": []
  }
 ],
 "metadata": {
  "kernelspec": {
   "display_name": "Python 3",
   "language": "python",
   "name": "python3"
  },
  "language_info": {
   "codemirror_mode": {
    "name": "ipython",
    "version": 3
   },
   "file_extension": ".py",
   "mimetype": "text/x-python",
   "name": "python",
   "nbconvert_exporter": "python",
   "pygments_lexer": "ipython3",
   "version": "3.7.7"
  },
  "toc": {
   "base_numbering": 1,
   "nav_menu": {},
   "number_sections": false,
   "sideBar": true,
   "skip_h1_title": false,
   "title_cell": "Table of Contents",
   "title_sidebar": "Contents",
   "toc_cell": false,
   "toc_position": {},
   "toc_section_display": true,
   "toc_window_display": true
  }
 },
 "nbformat": 4,
 "nbformat_minor": 4
}

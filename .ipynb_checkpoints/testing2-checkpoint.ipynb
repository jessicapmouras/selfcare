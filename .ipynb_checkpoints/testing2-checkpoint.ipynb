{
 "cells": [
  {
   "cell_type": "code",
   "execution_count": 1,
   "metadata": {},
   "outputs": [],
   "source": [
    "#general imports\n",
    "import numpy as np\n",
    "import pandas as pd\n",
    "\n",
    "\n",
    "import unicodedata\n",
    "import string\n",
    "import re\n",
    "\n",
    "#sklearn imports\n",
    "from sklearn.metrics.pairwise import linear_kernel, cosine_similarity\n",
    "from sklearn.feature_extraction.text import CountVectorizer, TfidfVectorizer\n",
    "from sklearn import preprocessing\n",
    "from sklearn.model_selection import train_test_split\n",
    "\n",
    "\n",
    "#nltk imports\n",
    "from nltk.util import ngrams\n",
    "from nltk.tokenize import sent_tokenize, word_tokenize\n",
    "from nltk.corpus import stopwords\n",
    "from nltk.stem.snowball import  SnowballStemmer\n",
    "\n",
    "np.set_printoptions(linewidth=100)\n",
    "\n",
    "sw = stopwords.words('english')\n",
    "pt = string.punctuation\n",
    "stemmer = SnowballStemmer('english')"
   ]
  },
  {
   "cell_type": "markdown",
   "metadata": {},
   "source": [
    "## load data and drop image columns"
   ]
  },
  {
   "cell_type": "code",
   "execution_count": 2,
   "metadata": {},
   "outputs": [
    {
     "data": {
      "text/html": [
       "<div>\n",
       "<style scoped>\n",
       "    .dataframe tbody tr th:only-of-type {\n",
       "        vertical-align: middle;\n",
       "    }\n",
       "\n",
       "    .dataframe tbody tr th {\n",
       "        vertical-align: top;\n",
       "    }\n",
       "\n",
       "    .dataframe thead th {\n",
       "        text-align: right;\n",
       "    }\n",
       "</style>\n",
       "<table border=\"1\" class=\"dataframe\">\n",
       "  <thead>\n",
       "    <tr style=\"text-align: right;\">\n",
       "      <th></th>\n",
       "      <th>Category</th>\n",
       "      <th>UserName</th>\n",
       "      <th>Product</th>\n",
       "      <th>UserReviewTitle</th>\n",
       "      <th>Url</th>\n",
       "      <th>Brand</th>\n",
       "      <th>ReviewText</th>\n",
       "      <th>Rank</th>\n",
       "      <th>OverallScore</th>\n",
       "      <th>Featured</th>\n",
       "      <th>UserRating</th>\n",
       "      <th>Date</th>\n",
       "      <th>ReviewTextMore</th>\n",
       "      <th>Image</th>\n",
       "    </tr>\n",
       "  </thead>\n",
       "  <tbody>\n",
       "    <tr>\n",
       "      <th>0</th>\n",
       "      <td>More Anti-Aging</td>\n",
       "      <td>pynkNymphette</td>\n",
       "      <td>Elemis Pro-Collagen Marine Cream</td>\n",
       "      <td>$$$$$$</td>\n",
       "      <td>/reviews/product/503745/elemis-procollagen-mar...</td>\n",
       "      <td>Elemis Product Reviews</td>\n",
       "      <td>Crrrraaazzzyyyy expensive! But it works so gre...</td>\n",
       "      <td>1.0</td>\n",
       "      <td>9.3</td>\n",
       "      <td>1.0</td>\n",
       "      <td>8.0</td>\n",
       "      <td>— 6 years, 2 months ago</td>\n",
       "      <td>NaN</td>\n",
       "      <td>http://images.totalbeauty.com/uploads/tx_userp...</td>\n",
       "    </tr>\n",
       "    <tr>\n",
       "      <th>1</th>\n",
       "      <td>More Anti-Aging</td>\n",
       "      <td>corina</td>\n",
       "      <td>Elemis Pro-Collagen Marine Cream</td>\n",
       "      <td>Elemis Pro Collagen Marine Cream</td>\n",
       "      <td>/reviews/product/503745/elemis-procollagen-mar...</td>\n",
       "      <td>Elemis Product Reviews</td>\n",
       "      <td>WOW . . . .this is a really good product. I fi...</td>\n",
       "      <td>2.0</td>\n",
       "      <td>9.3</td>\n",
       "      <td>0.0</td>\n",
       "      <td>10.0</td>\n",
       "      <td>— 3 years, 11 months ago</td>\n",
       "      <td>people noticed, which is huge for me. I'm defi...</td>\n",
       "      <td>http://images.totalbeauty.com/uploads/tx_userp...</td>\n",
       "    </tr>\n",
       "    <tr>\n",
       "      <th>2</th>\n",
       "      <td>More Anti-Aging</td>\n",
       "      <td>Kathrina</td>\n",
       "      <td>Elemis Pro-Collagen Marine Cream</td>\n",
       "      <td>Good but pricey</td>\n",
       "      <td>/reviews/product/503745/elemis-procollagen-mar...</td>\n",
       "      <td>Elemis Product Reviews</td>\n",
       "      <td>I started using the Elemis line about 6 months...</td>\n",
       "      <td>3.0</td>\n",
       "      <td>9.3</td>\n",
       "      <td>0.0</td>\n",
       "      <td>10.0</td>\n",
       "      <td>— 9 years, 2 months ago</td>\n",
       "      <td>ot recommend it for very dry skin though, it i...</td>\n",
       "      <td>http://images.totalbeauty.com/uploads/tx_userp...</td>\n",
       "    </tr>\n",
       "    <tr>\n",
       "      <th>3</th>\n",
       "      <td>More Anti-Aging</td>\n",
       "      <td>alicia_acedo</td>\n",
       "      <td>Elemis Pro-Collagen Marine Cream</td>\n",
       "      <td>Elemis Pro Collagen Marine Cream</td>\n",
       "      <td>/reviews/product/503745/elemis-procollagen-mar...</td>\n",
       "      <td>Elemis Product Reviews</td>\n",
       "      <td>I had a complete facial, on a Carnival cruise ...</td>\n",
       "      <td>4.0</td>\n",
       "      <td>9.3</td>\n",
       "      <td>0.0</td>\n",
       "      <td>10.0</td>\n",
       "      <td>— 3 years, 5 months ago</td>\n",
       "      <td>NaN</td>\n",
       "      <td>http://images.totalbeauty.com/uploads/tx_userp...</td>\n",
       "    </tr>\n",
       "    <tr>\n",
       "      <th>4</th>\n",
       "      <td>More Anti-Aging</td>\n",
       "      <td>sonia_silveroli</td>\n",
       "      <td>Elemis Pro-Collagen Marine Cream</td>\n",
       "      <td>Like Silk</td>\n",
       "      <td>/reviews/product/503745/elemis-procollagen-mar...</td>\n",
       "      <td>Elemis Product Reviews</td>\n",
       "      <td>I purchased this a few years ago and WOW, just...</td>\n",
       "      <td>5.0</td>\n",
       "      <td>9.3</td>\n",
       "      <td>0.0</td>\n",
       "      <td>10.0</td>\n",
       "      <td>— 5 years, 5 months ago</td>\n",
       "      <td>NaN</td>\n",
       "      <td>http://images.totalbeauty.com/uploads/tx_userp...</td>\n",
       "    </tr>\n",
       "  </tbody>\n",
       "</table>\n",
       "</div>"
      ],
      "text/plain": [
       "          Category         UserName                           Product  \\\n",
       "0  More Anti-Aging    pynkNymphette  Elemis Pro-Collagen Marine Cream   \n",
       "1  More Anti-Aging           corina  Elemis Pro-Collagen Marine Cream   \n",
       "2  More Anti-Aging         Kathrina  Elemis Pro-Collagen Marine Cream   \n",
       "3  More Anti-Aging     alicia_acedo  Elemis Pro-Collagen Marine Cream   \n",
       "4  More Anti-Aging  sonia_silveroli  Elemis Pro-Collagen Marine Cream   \n",
       "\n",
       "                    UserReviewTitle  \\\n",
       "0                            $$$$$$   \n",
       "1  Elemis Pro Collagen Marine Cream   \n",
       "2                   Good but pricey   \n",
       "3  Elemis Pro Collagen Marine Cream   \n",
       "4                         Like Silk   \n",
       "\n",
       "                                                 Url                   Brand  \\\n",
       "0  /reviews/product/503745/elemis-procollagen-mar...  Elemis Product Reviews   \n",
       "1  /reviews/product/503745/elemis-procollagen-mar...  Elemis Product Reviews   \n",
       "2  /reviews/product/503745/elemis-procollagen-mar...  Elemis Product Reviews   \n",
       "3  /reviews/product/503745/elemis-procollagen-mar...  Elemis Product Reviews   \n",
       "4  /reviews/product/503745/elemis-procollagen-mar...  Elemis Product Reviews   \n",
       "\n",
       "                                          ReviewText  Rank  OverallScore  \\\n",
       "0  Crrrraaazzzyyyy expensive! But it works so gre...   1.0           9.3   \n",
       "1  WOW . . . .this is a really good product. I fi...   2.0           9.3   \n",
       "2  I started using the Elemis line about 6 months...   3.0           9.3   \n",
       "3  I had a complete facial, on a Carnival cruise ...   4.0           9.3   \n",
       "4  I purchased this a few years ago and WOW, just...   5.0           9.3   \n",
       "\n",
       "   Featured  UserRating                      Date  \\\n",
       "0       1.0         8.0   — 6 years, 2 months ago   \n",
       "1       0.0        10.0  — 3 years, 11 months ago   \n",
       "2       0.0        10.0   — 9 years, 2 months ago   \n",
       "3       0.0        10.0   — 3 years, 5 months ago   \n",
       "4       0.0        10.0   — 5 years, 5 months ago   \n",
       "\n",
       "                                      ReviewTextMore  \\\n",
       "0                                                NaN   \n",
       "1  people noticed, which is huge for me. I'm defi...   \n",
       "2  ot recommend it for very dry skin though, it i...   \n",
       "3                                                NaN   \n",
       "4                                                NaN   \n",
       "\n",
       "                                               Image  \n",
       "0  http://images.totalbeauty.com/uploads/tx_userp...  \n",
       "1  http://images.totalbeauty.com/uploads/tx_userp...  \n",
       "2  http://images.totalbeauty.com/uploads/tx_userp...  \n",
       "3  http://images.totalbeauty.com/uploads/tx_userp...  \n",
       "4  http://images.totalbeauty.com/uploads/tx_userp...  "
      ]
     },
     "execution_count": 2,
     "metadata": {},
     "output_type": "execute_result"
    }
   ],
   "source": [
    "df = pd.read_csv('skincare.csv')\n",
    "df = df.reset_index(drop=True)\n",
    "df.drop(['Unnamed: 0'], axis=1, inplace=True)\n",
    "df.drop(['Unnamed: 0.1'], axis=1, inplace=True);\n",
    "df.head()"
   ]
  },
  {
   "cell_type": "code",
   "execution_count": 3,
   "metadata": {},
   "outputs": [],
   "source": [
    "df.drop(['Image'], axis=1, inplace=True);"
   ]
  },
  {
   "cell_type": "code",
   "execution_count": 4,
   "metadata": {},
   "outputs": [
    {
     "name": "stdout",
     "output_type": "stream",
     "text": [
      "<class 'pandas.core.frame.DataFrame'>\n",
      "RangeIndex: 60690 entries, 0 to 60689\n",
      "Data columns (total 13 columns):\n",
      " #   Column           Non-Null Count  Dtype  \n",
      "---  ------           --------------  -----  \n",
      " 0   Category         60690 non-null  object \n",
      " 1   UserName         52032 non-null  object \n",
      " 2   Product          60690 non-null  object \n",
      " 3   UserReviewTitle  52032 non-null  object \n",
      " 4   Url              60690 non-null  object \n",
      " 5   Brand            60690 non-null  object \n",
      " 6   ReviewText       52031 non-null  object \n",
      " 7   Rank             52032 non-null  float64\n",
      " 8   OverallScore     52032 non-null  float64\n",
      " 9   Featured         52032 non-null  float64\n",
      " 10  UserRating       52032 non-null  float64\n",
      " 11  Date             52032 non-null  object \n",
      " 12  ReviewTextMore   7965 non-null   object \n",
      "dtypes: float64(4), object(9)\n",
      "memory usage: 6.0+ MB\n"
     ]
    }
   ],
   "source": [
    "df.info()"
   ]
  },
  {
   "cell_type": "code",
   "execution_count": 5,
   "metadata": {},
   "outputs": [
    {
     "data": {
      "text/plain": [
       "22"
      ]
     },
     "execution_count": 5,
     "metadata": {},
     "output_type": "execute_result"
    }
   ],
   "source": [
    "df.Category.nunique()"
   ]
  },
  {
   "cell_type": "code",
   "execution_count": 6,
   "metadata": {},
   "outputs": [
    {
     "data": {
      "text/html": [
       "<div>\n",
       "<style scoped>\n",
       "    .dataframe tbody tr th:only-of-type {\n",
       "        vertical-align: middle;\n",
       "    }\n",
       "\n",
       "    .dataframe tbody tr th {\n",
       "        vertical-align: top;\n",
       "    }\n",
       "\n",
       "    .dataframe thead th {\n",
       "        text-align: right;\n",
       "    }\n",
       "</style>\n",
       "<table border=\"1\" class=\"dataframe\">\n",
       "  <thead>\n",
       "    <tr style=\"text-align: right;\">\n",
       "      <th></th>\n",
       "      <th>Category</th>\n",
       "      <th>UserName</th>\n",
       "      <th>Product</th>\n",
       "      <th>Brand</th>\n",
       "      <th>ReviewText</th>\n",
       "      <th>Rank</th>\n",
       "      <th>OverallScore</th>\n",
       "      <th>Featured</th>\n",
       "      <th>UserRating</th>\n",
       "      <th>Date</th>\n",
       "      <th>ReviewTextMore</th>\n",
       "    </tr>\n",
       "  </thead>\n",
       "  <tbody>\n",
       "    <tr>\n",
       "      <th>0</th>\n",
       "      <td>More Anti-Aging</td>\n",
       "      <td>pynkNymphette</td>\n",
       "      <td>Elemis Pro-Collagen Marine Cream</td>\n",
       "      <td>Elemis Product Reviews</td>\n",
       "      <td>Crrrraaazzzyyyy expensive! But it works so gre...</td>\n",
       "      <td>1.0</td>\n",
       "      <td>9.3</td>\n",
       "      <td>1.0</td>\n",
       "      <td>8.0</td>\n",
       "      <td>— 6 years, 2 months ago</td>\n",
       "      <td>NaN</td>\n",
       "    </tr>\n",
       "    <tr>\n",
       "      <th>1</th>\n",
       "      <td>More Anti-Aging</td>\n",
       "      <td>corina</td>\n",
       "      <td>Elemis Pro-Collagen Marine Cream</td>\n",
       "      <td>Elemis Product Reviews</td>\n",
       "      <td>WOW . . . .this is a really good product. I fi...</td>\n",
       "      <td>2.0</td>\n",
       "      <td>9.3</td>\n",
       "      <td>0.0</td>\n",
       "      <td>10.0</td>\n",
       "      <td>— 3 years, 11 months ago</td>\n",
       "      <td>people noticed, which is huge for me. I'm defi...</td>\n",
       "    </tr>\n",
       "    <tr>\n",
       "      <th>2</th>\n",
       "      <td>More Anti-Aging</td>\n",
       "      <td>Kathrina</td>\n",
       "      <td>Elemis Pro-Collagen Marine Cream</td>\n",
       "      <td>Elemis Product Reviews</td>\n",
       "      <td>I started using the Elemis line about 6 months...</td>\n",
       "      <td>3.0</td>\n",
       "      <td>9.3</td>\n",
       "      <td>0.0</td>\n",
       "      <td>10.0</td>\n",
       "      <td>— 9 years, 2 months ago</td>\n",
       "      <td>ot recommend it for very dry skin though, it i...</td>\n",
       "    </tr>\n",
       "    <tr>\n",
       "      <th>3</th>\n",
       "      <td>More Anti-Aging</td>\n",
       "      <td>alicia_acedo</td>\n",
       "      <td>Elemis Pro-Collagen Marine Cream</td>\n",
       "      <td>Elemis Product Reviews</td>\n",
       "      <td>I had a complete facial, on a Carnival cruise ...</td>\n",
       "      <td>4.0</td>\n",
       "      <td>9.3</td>\n",
       "      <td>0.0</td>\n",
       "      <td>10.0</td>\n",
       "      <td>— 3 years, 5 months ago</td>\n",
       "      <td>NaN</td>\n",
       "    </tr>\n",
       "    <tr>\n",
       "      <th>4</th>\n",
       "      <td>More Anti-Aging</td>\n",
       "      <td>sonia_silveroli</td>\n",
       "      <td>Elemis Pro-Collagen Marine Cream</td>\n",
       "      <td>Elemis Product Reviews</td>\n",
       "      <td>I purchased this a few years ago and WOW, just...</td>\n",
       "      <td>5.0</td>\n",
       "      <td>9.3</td>\n",
       "      <td>0.0</td>\n",
       "      <td>10.0</td>\n",
       "      <td>— 5 years, 5 months ago</td>\n",
       "      <td>NaN</td>\n",
       "    </tr>\n",
       "  </tbody>\n",
       "</table>\n",
       "</div>"
      ],
      "text/plain": [
       "          Category         UserName                           Product  \\\n",
       "0  More Anti-Aging    pynkNymphette  Elemis Pro-Collagen Marine Cream   \n",
       "1  More Anti-Aging           corina  Elemis Pro-Collagen Marine Cream   \n",
       "2  More Anti-Aging         Kathrina  Elemis Pro-Collagen Marine Cream   \n",
       "3  More Anti-Aging     alicia_acedo  Elemis Pro-Collagen Marine Cream   \n",
       "4  More Anti-Aging  sonia_silveroli  Elemis Pro-Collagen Marine Cream   \n",
       "\n",
       "                    Brand                                         ReviewText  \\\n",
       "0  Elemis Product Reviews  Crrrraaazzzyyyy expensive! But it works so gre...   \n",
       "1  Elemis Product Reviews  WOW . . . .this is a really good product. I fi...   \n",
       "2  Elemis Product Reviews  I started using the Elemis line about 6 months...   \n",
       "3  Elemis Product Reviews  I had a complete facial, on a Carnival cruise ...   \n",
       "4  Elemis Product Reviews  I purchased this a few years ago and WOW, just...   \n",
       "\n",
       "   Rank  OverallScore  Featured  UserRating                      Date  \\\n",
       "0   1.0           9.3       1.0         8.0   — 6 years, 2 months ago   \n",
       "1   2.0           9.3       0.0        10.0  — 3 years, 11 months ago   \n",
       "2   3.0           9.3       0.0        10.0   — 9 years, 2 months ago   \n",
       "3   4.0           9.3       0.0        10.0   — 3 years, 5 months ago   \n",
       "4   5.0           9.3       0.0        10.0   — 5 years, 5 months ago   \n",
       "\n",
       "                                      ReviewTextMore  \n",
       "0                                                NaN  \n",
       "1  people noticed, which is huge for me. I'm defi...  \n",
       "2  ot recommend it for very dry skin though, it i...  \n",
       "3                                                NaN  \n",
       "4                                                NaN  "
      ]
     },
     "execution_count": 6,
     "metadata": {},
     "output_type": "execute_result"
    }
   ],
   "source": [
    "#reduce datafame for ease of use\n",
    "skindf = df.drop(['UserReviewTitle', 'Url'], axis=1);\n",
    "skindf.head()"
   ]
  },
  {
   "cell_type": "markdown",
   "metadata": {},
   "source": [
    "## Original Dataframe EDA & Basic Metrics"
   ]
  },
  {
   "cell_type": "code",
   "execution_count": 7,
   "metadata": {},
   "outputs": [
    {
     "name": "stdout",
     "output_type": "stream",
     "text": [
      "Total number of users: 24071.  Total number of products: 14854.  Total number of categories: 22\n"
     ]
    }
   ],
   "source": [
    "#how many unique products & unique users\n",
    "users_count = df['UserName'].nunique()\n",
    "products_count = df['Product'].nunique();\n",
    "category_count = df['Category'].nunique();\n",
    "print(f'Total number of users: {users_count}.  Total number of products: {products_count}.  Total number of categories: {category_count}')"
   ]
  },
  {
   "cell_type": "code",
   "execution_count": 8,
   "metadata": {},
   "outputs": [
    {
     "data": {
      "image/png": "[encoded data removed]",
      "text/plain": [
       "<Figure size 432x288 with 1 Axes>"
      ]
     },
     "metadata": {
      "needs_background": "light"
     },
     "output_type": "display_data"
    }
   ],
   "source": [
    "#histogram of user ratings\n",
    "df['UserRating'].hist();"
   ]
  },
  {
   "cell_type": "code",
   "execution_count": 9,
   "metadata": {},
   "outputs": [
    {
     "data": {
      "text/plain": [
       "More Moisturizer                       12034\n",
       "More Cleanser                          10950\n",
       "More Anti-Aging                         7014\n",
       "More Eye Treatments                     4190\n",
       "More Blemish + Acne Control             3923\n",
       "More Masks, Peels                       3083\n",
       "More Exfoliators, Scrubs                3055\n",
       "More Makeup Remover                     2625\n",
       "More Toners, Astringents                2219\n",
       "More Night Cream                        2085\n",
       "More Sun Protection                     1552\n",
       "More Self Tanners                       1324\n",
       "More Tools + Appliances                 1319\n",
       "More Toothpaste + Breath Freshener      1262\n",
       "More Lip Plumper                         956\n",
       "More Oral Care                           649\n",
       "More Dermatology Treatments & Peels      631\n",
       "More Lightening Cream                    610\n",
       "More Ingestibles + Supplements           513\n",
       "More Microdermabrasion                   410\n",
       "More Lip Exfoliant                       284\n",
       "More                                       2\n",
       "Name: Category, dtype: int64"
      ]
     },
     "execution_count": 9,
     "metadata": {},
     "output_type": "execute_result"
    }
   ],
   "source": [
    "category = df.Category.value_counts()\n",
    "category"
   ]
  },
  {
   "cell_type": "markdown",
   "metadata": {},
   "source": [
    "## Make skincare dataframe for reduced scope"
   ]
  },
  {
   "cell_type": "code",
   "execution_count": 10,
   "metadata": {},
   "outputs": [],
   "source": [
    "#make skincare dataframe for more specific recommender"
   ]
  },
  {
   "cell_type": "code",
   "execution_count": 11,
   "metadata": {},
   "outputs": [
    {
     "name": "stdout",
     "output_type": "stream",
     "text": [
      "<class 'pandas.core.frame.DataFrame'>\n",
      "Int64Index: 43967 entries, 0 to 60689\n",
      "Data columns (total 13 columns):\n",
      " #   Column           Non-Null Count  Dtype  \n",
      "---  ------           --------------  -----  \n",
      " 0   Category         43967 non-null  object \n",
      " 1   UserName         37760 non-null  object \n",
      " 2   Product          43967 non-null  object \n",
      " 3   UserReviewTitle  37760 non-null  object \n",
      " 4   Url              43967 non-null  object \n",
      " 5   Brand            43967 non-null  object \n",
      " 6   ReviewText       37760 non-null  object \n",
      " 7   Rank             37760 non-null  float64\n",
      " 8   OverallScore     37760 non-null  float64\n",
      " 9   Featured         37760 non-null  float64\n",
      " 10  UserRating       37760 non-null  float64\n",
      " 11  Date             37760 non-null  object \n",
      " 12  ReviewTextMore   5922 non-null   object \n",
      "dtypes: float64(4), object(9)\n",
      "memory usage: 4.7+ MB\n"
     ]
    }
   ],
   "source": [
    "skindf = df.query('Category == [\"More Moisturizer\",\"More Cleanser\",\"More Anti-Aging\",\"More Eye Treatments\",\"More Blemish + Acne Control\",\"More Masks, Peels, More Exfoliators, Scrubs\",\"More Toners, Astringents\",\"More Night Cream\",\"More Sun Protection\"]')\n",
    "skindf.info()\n",
    "#for now leave in unrated products"
   ]
  },
  {
   "cell_type": "code",
   "execution_count": 12,
   "metadata": {},
   "outputs": [
    {
     "data": {
      "image/png": "[encoded data removed]",
      "text/plain": [
       "<Figure size 432x288 with 1 Axes>"
      ]
     },
     "metadata": {
      "needs_background": "light"
     },
     "output_type": "display_data"
    }
   ],
   "source": [
    "#histogram of user ratings\n",
    "skindf['UserRating'].hist();"
   ]
  },
  {
   "cell_type": "code",
   "execution_count": 13,
   "metadata": {},
   "outputs": [],
   "source": [
    "category_list = [\"More Moisturizer\",\"More Cleanser\",\"More Anti-Aging\",\"More Eye Treatments\",\"More Blemish + Acne Control\",\"More Masks, Peels, More Exfoliators, Scrubs\",\"More Toners, Astringents\",\"More Night Cream\",\"More Sun Protection\"]"
   ]
  },
  {
   "cell_type": "code",
   "execution_count": 14,
   "metadata": {},
   "outputs": [
    {
     "data": {
      "text/plain": [
       "More Moisturizer               12034\n",
       "More Cleanser                  10950\n",
       "More Anti-Aging                 7014\n",
       "More Eye Treatments             4190\n",
       "More Blemish + Acne Control     3923\n",
       "More Toners, Astringents        2219\n",
       "More Night Cream                2085\n",
       "More Sun Protection             1552\n",
       "Name: Category, dtype: int64"
      ]
     },
     "execution_count": 14,
     "metadata": {},
     "output_type": "execute_result"
    }
   ],
   "source": [
    "skindf.Category.value_counts()"
   ]
  },
  {
   "cell_type": "code",
   "execution_count": 15,
   "metadata": {},
   "outputs": [],
   "source": [
    "#skindf.iloc[:4, 1]\n",
    "#skindf.loc[:,'Category']"
   ]
  },
  {
   "cell_type": "code",
   "execution_count": 16,
   "metadata": {},
   "outputs": [
    {
     "name": "stdout",
     "output_type": "stream",
     "text": [
      "<class 'pandas.core.frame.DataFrame'>\n",
      "Int64Index: 43967 entries, 0 to 60689\n",
      "Data columns (total 13 columns):\n",
      " #   Column           Non-Null Count  Dtype  \n",
      "---  ------           --------------  -----  \n",
      " 0   Category         43967 non-null  object \n",
      " 1   UserName         37760 non-null  object \n",
      " 2   Product          43967 non-null  object \n",
      " 3   UserReviewTitle  37760 non-null  object \n",
      " 4   Url              43967 non-null  object \n",
      " 5   Brand            43967 non-null  object \n",
      " 6   ReviewText       37760 non-null  object \n",
      " 7   Rank             37760 non-null  float64\n",
      " 8   OverallScore     37760 non-null  float64\n",
      " 9   Featured         37760 non-null  float64\n",
      " 10  UserRating       37760 non-null  float64\n",
      " 11  Date             37760 non-null  object \n",
      " 12  ReviewTextMore   5922 non-null   object \n",
      "dtypes: float64(4), object(9)\n",
      "memory usage: 4.7+ MB\n"
     ]
    }
   ],
   "source": [
    "skindf.info()"
   ]
  },
  {
   "cell_type": "code",
   "execution_count": null,
   "metadata": {},
   "outputs": [],
   "source": []
  },
  {
   "cell_type": "code",
   "execution_count": 17,
   "metadata": {},
   "outputs": [
    {
     "name": "stdout",
     "output_type": "stream",
     "text": [
      "<class 'pandas.core.frame.DataFrame'>\n",
      "Int64Index: 37760 entries, 0 to 51988\n",
      "Data columns (total 12 columns):\n",
      " #   Column           Non-Null Count  Dtype  \n",
      "---  ------           --------------  -----  \n",
      " 0   Category         37760 non-null  object \n",
      " 1   UserName         37760 non-null  object \n",
      " 2   Product          37760 non-null  object \n",
      " 3   UserReviewTitle  37760 non-null  object \n",
      " 4   Brand            37760 non-null  object \n",
      " 5   ReviewText       37760 non-null  object \n",
      " 6   Rank             37760 non-null  float64\n",
      " 7   OverallScore     37760 non-null  float64\n",
      " 8   Featured         37760 non-null  float64\n",
      " 9   UserRating       37760 non-null  float64\n",
      " 10  Date             37760 non-null  object \n",
      " 11  ReviewTextMore   5922 non-null   object \n",
      "dtypes: float64(4), object(8)\n",
      "memory usage: 3.7+ MB\n"
     ]
    }
   ],
   "source": [
    "skindf = skindf[skindf['UserName'].notnull()]\n",
    "skindf.drop(['Url'], axis=1, inplace=True);\n",
    "skindf.info()"
   ]
  },
  {
   "cell_type": "markdown",
   "metadata": {},
   "source": [
    "## Content Based Recommender"
   ]
  },
  {
   "cell_type": "code",
   "execution_count": 18,
   "metadata": {},
   "outputs": [
    {
     "name": "stderr",
     "output_type": "stream",
     "text": [
      "[nltk_data] Downloading package punkt to\n",
      "[nltk_data]     /Users/jessicapmouras/nltk_data...\n",
      "[nltk_data]   Package punkt is already up-to-date!\n",
      "[nltk_data] Downloading package stopwords to\n",
      "[nltk_data]     /Users/jessicapmouras/nltk_data...\n",
      "[nltk_data]   Package stopwords is already up-to-date!\n",
      "[nltk_data] Downloading package wordnet to\n",
      "[nltk_data]     /Users/jessicapmouras/nltk_data...\n",
      "[nltk_data]   Package wordnet is already up-to-date!\n",
      "[nltk_data] Downloading package averaged_perceptron_tagger to\n",
      "[nltk_data]     /Users/jessicapmouras/nltk_data...\n",
      "[nltk_data]   Package averaged_perceptron_tagger is already up-to-\n",
      "[nltk_data]       date!\n"
     ]
    },
    {
     "data": {
      "text/plain": [
       "True"
      ]
     },
     "execution_count": 18,
     "metadata": {},
     "output_type": "execute_result"
    }
   ],
   "source": [
    "import nltk\n",
    "nltk.download('punkt')\n",
    "nltk.download('stopwords')\n",
    "nltk.download('wordnet')\n",
    "nltk.download('averaged_perceptron_tagger')"
   ]
  },
  {
   "cell_type": "code",
   "execution_count": 19,
   "metadata": {},
   "outputs": [
    {
     "data": {
      "text/plain": [
       "0    Crrrraaazzzyyyy expensive! But it works so gre...\n",
       "1    WOW . . . .this is a really good product. I fi...\n",
       "2    I started using the Elemis line about 6 months...\n",
       "3    I had a complete facial, on a Carnival cruise ...\n",
       "4    I purchased this a few years ago and WOW, just...\n",
       "Name: ReviewText, dtype: object"
      ]
     },
     "execution_count": 19,
     "metadata": {},
     "output_type": "execute_result"
    }
   ],
   "source": [
    "skindf['ReviewText'].head()"
   ]
  },
  {
   "cell_type": "markdown",
   "metadata": {},
   "source": [
    "### cleaning review text to capture good tagging words"
   ]
  },
  {
   "cell_type": "code",
   "execution_count": 20,
   "metadata": {},
   "outputs": [],
   "source": [
    "from nltk.corpus import stopwords\n",
    "import re\n",
    "import string\n",
    "from nltk.stem import WordNetLemmatizer\n",
    "from nltk import word_tokenize\n",
    "from nltk.corpus import stopwords\n",
    "\n",
    "stop = stopwords.words('english')\n",
    "stop_words_ = set(stopwords.words('english'))\n",
    "wn = WordNetLemmatizer()\n"
   ]
  },
  {
   "cell_type": "code",
   "execution_count": 21,
   "metadata": {},
   "outputs": [
    {
     "data": {
      "text/html": [
       "<div>\n",
       "<style scoped>\n",
       "    .dataframe tbody tr th:only-of-type {\n",
       "        vertical-align: middle;\n",
       "    }\n",
       "\n",
       "    .dataframe tbody tr th {\n",
       "        vertical-align: top;\n",
       "    }\n",
       "\n",
       "    .dataframe thead th {\n",
       "        text-align: right;\n",
       "    }\n",
       "</style>\n",
       "<table border=\"1\" class=\"dataframe\">\n",
       "  <thead>\n",
       "    <tr style=\"text-align: right;\">\n",
       "      <th></th>\n",
       "      <th>Category</th>\n",
       "      <th>UserName</th>\n",
       "      <th>Product</th>\n",
       "      <th>UserReviewTitle</th>\n",
       "      <th>Brand</th>\n",
       "      <th>ReviewText</th>\n",
       "      <th>Rank</th>\n",
       "      <th>OverallScore</th>\n",
       "      <th>Featured</th>\n",
       "      <th>UserRating</th>\n",
       "      <th>Date</th>\n",
       "      <th>ReviewTextMore</th>\n",
       "    </tr>\n",
       "  </thead>\n",
       "  <tbody>\n",
       "    <tr>\n",
       "      <th>0</th>\n",
       "      <td>More Anti-Aging</td>\n",
       "      <td>pynkNymphette</td>\n",
       "      <td>Elemis Pro-Collagen Marine Cream</td>\n",
       "      <td>$$$$$$</td>\n",
       "      <td>Elemis Product Reviews</td>\n",
       "      <td>Crrrraaazzzyyyy expensive! But it works so gre...</td>\n",
       "      <td>1.0</td>\n",
       "      <td>9.3</td>\n",
       "      <td>1.0</td>\n",
       "      <td>8.0</td>\n",
       "      <td>— 6 years, 2 months ago</td>\n",
       "      <td>NaN</td>\n",
       "    </tr>\n",
       "    <tr>\n",
       "      <th>1</th>\n",
       "      <td>More Anti-Aging</td>\n",
       "      <td>corina</td>\n",
       "      <td>Elemis Pro-Collagen Marine Cream</td>\n",
       "      <td>Elemis Pro Collagen Marine Cream</td>\n",
       "      <td>Elemis Product Reviews</td>\n",
       "      <td>WOW . . . .this is a really good product. I fi...</td>\n",
       "      <td>2.0</td>\n",
       "      <td>9.3</td>\n",
       "      <td>0.0</td>\n",
       "      <td>10.0</td>\n",
       "      <td>— 3 years, 11 months ago</td>\n",
       "      <td>people noticed, which is huge for me. I'm defi...</td>\n",
       "    </tr>\n",
       "    <tr>\n",
       "      <th>2</th>\n",
       "      <td>More Anti-Aging</td>\n",
       "      <td>Kathrina</td>\n",
       "      <td>Elemis Pro-Collagen Marine Cream</td>\n",
       "      <td>Good but pricey</td>\n",
       "      <td>Elemis Product Reviews</td>\n",
       "      <td>I started using the Elemis line about 6 months...</td>\n",
       "      <td>3.0</td>\n",
       "      <td>9.3</td>\n",
       "      <td>0.0</td>\n",
       "      <td>10.0</td>\n",
       "      <td>— 9 years, 2 months ago</td>\n",
       "      <td>ot recommend it for very dry skin though, it i...</td>\n",
       "    </tr>\n",
       "    <tr>\n",
       "      <th>3</th>\n",
       "      <td>More Anti-Aging</td>\n",
       "      <td>alicia_acedo</td>\n",
       "      <td>Elemis Pro-Collagen Marine Cream</td>\n",
       "      <td>Elemis Pro Collagen Marine Cream</td>\n",
       "      <td>Elemis Product Reviews</td>\n",
       "      <td>I had a complete facial, on a Carnival cruise ...</td>\n",
       "      <td>4.0</td>\n",
       "      <td>9.3</td>\n",
       "      <td>0.0</td>\n",
       "      <td>10.0</td>\n",
       "      <td>— 3 years, 5 months ago</td>\n",
       "      <td>NaN</td>\n",
       "    </tr>\n",
       "    <tr>\n",
       "      <th>4</th>\n",
       "      <td>More Anti-Aging</td>\n",
       "      <td>sonia_silveroli</td>\n",
       "      <td>Elemis Pro-Collagen Marine Cream</td>\n",
       "      <td>Like Silk</td>\n",
       "      <td>Elemis Product Reviews</td>\n",
       "      <td>I purchased this a few years ago and WOW, just...</td>\n",
       "      <td>5.0</td>\n",
       "      <td>9.3</td>\n",
       "      <td>0.0</td>\n",
       "      <td>10.0</td>\n",
       "      <td>— 5 years, 5 months ago</td>\n",
       "      <td>NaN</td>\n",
       "    </tr>\n",
       "  </tbody>\n",
       "</table>\n",
       "</div>"
      ],
      "text/plain": [
       "          Category         UserName                           Product  \\\n",
       "0  More Anti-Aging    pynkNymphette  Elemis Pro-Collagen Marine Cream   \n",
       "1  More Anti-Aging           corina  Elemis Pro-Collagen Marine Cream   \n",
       "2  More Anti-Aging         Kathrina  Elemis Pro-Collagen Marine Cream   \n",
       "3  More Anti-Aging     alicia_acedo  Elemis Pro-Collagen Marine Cream   \n",
       "4  More Anti-Aging  sonia_silveroli  Elemis Pro-Collagen Marine Cream   \n",
       "\n",
       "                    UserReviewTitle                   Brand  \\\n",
       "0                            $$$$$$  Elemis Product Reviews   \n",
       "1  Elemis Pro Collagen Marine Cream  Elemis Product Reviews   \n",
       "2                   Good but pricey  Elemis Product Reviews   \n",
       "3  Elemis Pro Collagen Marine Cream  Elemis Product Reviews   \n",
       "4                         Like Silk  Elemis Product Reviews   \n",
       "\n",
       "                                          ReviewText  Rank  OverallScore  \\\n",
       "0  Crrrraaazzzyyyy expensive! But it works so gre...   1.0           9.3   \n",
       "1  WOW . . . .this is a really good product. I fi...   2.0           9.3   \n",
       "2  I started using the Elemis line about 6 months...   3.0           9.3   \n",
       "3  I had a complete facial, on a Carnival cruise ...   4.0           9.3   \n",
       "4  I purchased this a few years ago and WOW, just...   5.0           9.3   \n",
       "\n",
       "   Featured  UserRating                      Date  \\\n",
       "0       1.0         8.0   — 6 years, 2 months ago   \n",
       "1       0.0        10.0  — 3 years, 11 months ago   \n",
       "2       0.0        10.0   — 9 years, 2 months ago   \n",
       "3       0.0        10.0   — 3 years, 5 months ago   \n",
       "4       0.0        10.0   — 5 years, 5 months ago   \n",
       "\n",
       "                                      ReviewTextMore  \n",
       "0                                                NaN  \n",
       "1  people noticed, which is huge for me. I'm defi...  \n",
       "2  ot recommend it for very dry skin though, it i...  \n",
       "3                                                NaN  \n",
       "4                                                NaN  "
      ]
     },
     "execution_count": 21,
     "metadata": {},
     "output_type": "execute_result"
    }
   ],
   "source": [
    "con_df = skindf;\n",
    "con_df.head()"
   ]
  },
  {
   "cell_type": "code",
   "execution_count": 22,
   "metadata": {},
   "outputs": [],
   "source": [
    "def stop_word_remover(token):\n",
    "    return  token not in stop_words_ and token not in list(string.punctuation)  and len(token)>2"
   ]
  },
  {
   "cell_type": "code",
   "execution_count": 23,
   "metadata": {},
   "outputs": [],
   "source": [
    "def clean_txt(text):\n",
    "    clean_text = []\n",
    "    clean_text2 = []\n",
    "    text = re.sub(\"'\", \"\",text)\n",
    "    text=re.sub(\"(\\\\d|\\\\W)+\",\" \",text) \n",
    "    text = text.replace(\"nbsp\", \"\")\n",
    "    clean_text = [ wn.lemmatize(word, pos=\"v\") for word in word_tokenize(text.lower()) if stop_word_remover(word)]\n",
    "    clean_text2 = [word for word in clean_text if stop_word_remover(word)]\n",
    "    return \" \".join(clean_text2)"
   ]
  },
  {
   "cell_type": "code",
   "execution_count": 24,
   "metadata": {},
   "outputs": [
    {
     "data": {
      "text/html": [
       "<div>\n",
       "<style scoped>\n",
       "    .dataframe tbody tr th:only-of-type {\n",
       "        vertical-align: middle;\n",
       "    }\n",
       "\n",
       "    .dataframe tbody tr th {\n",
       "        vertical-align: top;\n",
       "    }\n",
       "\n",
       "    .dataframe thead th {\n",
       "        text-align: right;\n",
       "    }\n",
       "</style>\n",
       "<table border=\"1\" class=\"dataframe\">\n",
       "  <thead>\n",
       "    <tr style=\"text-align: right;\">\n",
       "      <th></th>\n",
       "      <th>Category</th>\n",
       "      <th>UserName</th>\n",
       "      <th>Product</th>\n",
       "      <th>UserReviewTitle</th>\n",
       "      <th>Brand</th>\n",
       "      <th>ReviewText</th>\n",
       "      <th>Rank</th>\n",
       "      <th>OverallScore</th>\n",
       "      <th>Featured</th>\n",
       "      <th>UserRating</th>\n",
       "      <th>Date</th>\n",
       "      <th>ReviewTextMore</th>\n",
       "      <th>FullReviewText</th>\n",
       "    </tr>\n",
       "  </thead>\n",
       "  <tbody>\n",
       "    <tr>\n",
       "      <th>0</th>\n",
       "      <td>More Anti-Aging</td>\n",
       "      <td>pynkNymphette</td>\n",
       "      <td>Elemis Pro-Collagen Marine Cream</td>\n",
       "      <td>$$$$$$</td>\n",
       "      <td>Elemis Product Reviews</td>\n",
       "      <td>Crrrraaazzzyyyy expensive! But it works so gre...</td>\n",
       "      <td>1.0</td>\n",
       "      <td>9.3</td>\n",
       "      <td>1.0</td>\n",
       "      <td>8.0</td>\n",
       "      <td>— 6 years, 2 months ago</td>\n",
       "      <td>NaN</td>\n",
       "      <td>NaN</td>\n",
       "    </tr>\n",
       "    <tr>\n",
       "      <th>1</th>\n",
       "      <td>More Anti-Aging</td>\n",
       "      <td>corina</td>\n",
       "      <td>Elemis Pro-Collagen Marine Cream</td>\n",
       "      <td>Elemis Pro Collagen Marine Cream</td>\n",
       "      <td>Elemis Product Reviews</td>\n",
       "      <td>WOW . . . .this is a really good product. I fi...</td>\n",
       "      <td>2.0</td>\n",
       "      <td>9.3</td>\n",
       "      <td>0.0</td>\n",
       "      <td>10.0</td>\n",
       "      <td>— 3 years, 11 months ago</td>\n",
       "      <td>people noticed, which is huge for me. I'm defi...</td>\n",
       "      <td>WOW . . . .this is a really good product. I fi...</td>\n",
       "    </tr>\n",
       "    <tr>\n",
       "      <th>2</th>\n",
       "      <td>More Anti-Aging</td>\n",
       "      <td>Kathrina</td>\n",
       "      <td>Elemis Pro-Collagen Marine Cream</td>\n",
       "      <td>Good but pricey</td>\n",
       "      <td>Elemis Product Reviews</td>\n",
       "      <td>I started using the Elemis line about 6 months...</td>\n",
       "      <td>3.0</td>\n",
       "      <td>9.3</td>\n",
       "      <td>0.0</td>\n",
       "      <td>10.0</td>\n",
       "      <td>— 9 years, 2 months ago</td>\n",
       "      <td>ot recommend it for very dry skin though, it i...</td>\n",
       "      <td>I started using the Elemis line about 6 months...</td>\n",
       "    </tr>\n",
       "    <tr>\n",
       "      <th>3</th>\n",
       "      <td>More Anti-Aging</td>\n",
       "      <td>alicia_acedo</td>\n",
       "      <td>Elemis Pro-Collagen Marine Cream</td>\n",
       "      <td>Elemis Pro Collagen Marine Cream</td>\n",
       "      <td>Elemis Product Reviews</td>\n",
       "      <td>I had a complete facial, on a Carnival cruise ...</td>\n",
       "      <td>4.0</td>\n",
       "      <td>9.3</td>\n",
       "      <td>0.0</td>\n",
       "      <td>10.0</td>\n",
       "      <td>— 3 years, 5 months ago</td>\n",
       "      <td>NaN</td>\n",
       "      <td>NaN</td>\n",
       "    </tr>\n",
       "    <tr>\n",
       "      <th>4</th>\n",
       "      <td>More Anti-Aging</td>\n",
       "      <td>sonia_silveroli</td>\n",
       "      <td>Elemis Pro-Collagen Marine Cream</td>\n",
       "      <td>Like Silk</td>\n",
       "      <td>Elemis Product Reviews</td>\n",
       "      <td>I purchased this a few years ago and WOW, just...</td>\n",
       "      <td>5.0</td>\n",
       "      <td>9.3</td>\n",
       "      <td>0.0</td>\n",
       "      <td>10.0</td>\n",
       "      <td>— 5 years, 5 months ago</td>\n",
       "      <td>NaN</td>\n",
       "      <td>NaN</td>\n",
       "    </tr>\n",
       "  </tbody>\n",
       "</table>\n",
       "</div>"
      ],
      "text/plain": [
       "          Category         UserName                           Product  \\\n",
       "0  More Anti-Aging    pynkNymphette  Elemis Pro-Collagen Marine Cream   \n",
       "1  More Anti-Aging           corina  Elemis Pro-Collagen Marine Cream   \n",
       "2  More Anti-Aging         Kathrina  Elemis Pro-Collagen Marine Cream   \n",
       "3  More Anti-Aging     alicia_acedo  Elemis Pro-Collagen Marine Cream   \n",
       "4  More Anti-Aging  sonia_silveroli  Elemis Pro-Collagen Marine Cream   \n",
       "\n",
       "                    UserReviewTitle                   Brand  \\\n",
       "0                            $$$$$$  Elemis Product Reviews   \n",
       "1  Elemis Pro Collagen Marine Cream  Elemis Product Reviews   \n",
       "2                   Good but pricey  Elemis Product Reviews   \n",
       "3  Elemis Pro Collagen Marine Cream  Elemis Product Reviews   \n",
       "4                         Like Silk  Elemis Product Reviews   \n",
       "\n",
       "                                          ReviewText  Rank  OverallScore  \\\n",
       "0  Crrrraaazzzyyyy expensive! But it works so gre...   1.0           9.3   \n",
       "1  WOW . . . .this is a really good product. I fi...   2.0           9.3   \n",
       "2  I started using the Elemis line about 6 months...   3.0           9.3   \n",
       "3  I had a complete facial, on a Carnival cruise ...   4.0           9.3   \n",
       "4  I purchased this a few years ago and WOW, just...   5.0           9.3   \n",
       "\n",
       "   Featured  UserRating                      Date  \\\n",
       "0       1.0         8.0   — 6 years, 2 months ago   \n",
       "1       0.0        10.0  — 3 years, 11 months ago   \n",
       "2       0.0        10.0   — 9 years, 2 months ago   \n",
       "3       0.0        10.0   — 3 years, 5 months ago   \n",
       "4       0.0        10.0   — 5 years, 5 months ago   \n",
       "\n",
       "                                      ReviewTextMore  \\\n",
       "0                                                NaN   \n",
       "1  people noticed, which is huge for me. I'm defi...   \n",
       "2  ot recommend it for very dry skin though, it i...   \n",
       "3                                                NaN   \n",
       "4                                                NaN   \n",
       "\n",
       "                                      FullReviewText  \n",
       "0                                                NaN  \n",
       "1  WOW . . . .this is a really good product. I fi...  \n",
       "2  I started using the Elemis line about 6 months...  \n",
       "3                                                NaN  \n",
       "4                                                NaN  "
      ]
     },
     "execution_count": 24,
     "metadata": {},
     "output_type": "execute_result"
    }
   ],
   "source": [
    "## combine review text and more revivew text for extra power for vocabulary\n",
    "\n",
    "con_df['FullReviewText'] = con_df['ReviewText'].str.cat(con_df['ReviewTextMore'],sep=\" \")\n",
    "con_df.head()"
   ]
  },
  {
   "cell_type": "code",
   "execution_count": 25,
   "metadata": {},
   "outputs": [],
   "source": [
    "# apply text cleaning\n",
    "con_df['ReviewText'] = con_df['ReviewText'].apply(clean_txt)"
   ]
  },
  {
   "cell_type": "code",
   "execution_count": 26,
   "metadata": {},
   "outputs": [
    {
     "data": {
      "text/plain": [
       "0    crrrraaazzzyyyy expensive work great like use ...\n",
       "1    wow really good product first learn website de...\n",
       "2    start use elemis line months ago slowly start ...\n",
       "3    complete facial carnival cruise months ago pur...\n",
       "4    purchase years ago wow smooth totally dissolve...\n",
       "Name: ReviewText, dtype: object"
      ]
     },
     "execution_count": 26,
     "metadata": {},
     "output_type": "execute_result"
    }
   ],
   "source": [
    "con_df['ReviewText'].head()"
   ]
  },
  {
   "cell_type": "code",
   "execution_count": 27,
   "metadata": {},
   "outputs": [
    {
     "data": {
      "text/plain": [
       "Index(['Category', 'UserName', 'Product', 'UserReviewTitle', 'Brand',\n",
       "       'ReviewText', 'Rank', 'OverallScore', 'Featured', 'UserRating', 'Date',\n",
       "       'ReviewTextMore', 'FullReviewText'],\n",
       "      dtype='object')"
      ]
     },
     "execution_count": 27,
     "metadata": {},
     "output_type": "execute_result"
    }
   ],
   "source": [
    "con_df.columns"
   ]
  },
  {
   "cell_type": "code",
   "execution_count": 28,
   "metadata": {},
   "outputs": [
    {
     "data": {
      "text/html": [
       "<div>\n",
       "<style scoped>\n",
       "    .dataframe tbody tr th:only-of-type {\n",
       "        vertical-align: middle;\n",
       "    }\n",
       "\n",
       "    .dataframe tbody tr th {\n",
       "        vertical-align: top;\n",
       "    }\n",
       "\n",
       "    .dataframe thead th {\n",
       "        text-align: right;\n",
       "    }\n",
       "</style>\n",
       "<table border=\"1\" class=\"dataframe\">\n",
       "  <thead>\n",
       "    <tr style=\"text-align: right;\">\n",
       "      <th></th>\n",
       "      <th>Product</th>\n",
       "      <th>ReviewText</th>\n",
       "    </tr>\n",
       "  </thead>\n",
       "  <tbody>\n",
       "    <tr>\n",
       "      <th>0</th>\n",
       "      <td>Elemis Pro-Collagen Marine Cream</td>\n",
       "      <td>crrrraaazzzyyyy expensive work great like use ...</td>\n",
       "    </tr>\n",
       "    <tr>\n",
       "      <th>1</th>\n",
       "      <td>Elemis Pro-Collagen Marine Cream</td>\n",
       "      <td>wow really good product first learn website de...</td>\n",
       "    </tr>\n",
       "    <tr>\n",
       "      <th>2</th>\n",
       "      <td>Elemis Pro-Collagen Marine Cream</td>\n",
       "      <td>start use elemis line months ago slowly start ...</td>\n",
       "    </tr>\n",
       "    <tr>\n",
       "      <th>3</th>\n",
       "      <td>Elemis Pro-Collagen Marine Cream</td>\n",
       "      <td>complete facial carnival cruise months ago pur...</td>\n",
       "    </tr>\n",
       "    <tr>\n",
       "      <th>4</th>\n",
       "      <td>Elemis Pro-Collagen Marine Cream</td>\n",
       "      <td>purchase years ago wow smooth totally dissolve...</td>\n",
       "    </tr>\n",
       "    <tr>\n",
       "      <th>...</th>\n",
       "      <td>...</td>\n",
       "      <td>...</td>\n",
       "    </tr>\n",
       "    <tr>\n",
       "      <th>51773</th>\n",
       "      <td>Proactiv Renewing Cleanser</td>\n",
       "      <td>use everday like instructions say see result d...</td>\n",
       "    </tr>\n",
       "    <tr>\n",
       "      <th>51774</th>\n",
       "      <td>Proactiv Renewing Cleanser</td>\n",
       "      <td>part three step program work amazingly well ge...</td>\n",
       "    </tr>\n",
       "    <tr>\n",
       "      <th>51808</th>\n",
       "      <td>BeautyRx by Dr. Schultz Balancing Glycolic Cle...</td>\n",
       "      <td>glycolic acid cleanser felt really gentle flip...</td>\n",
       "    </tr>\n",
       "    <tr>\n",
       "      <th>51873</th>\n",
       "      <td>Dr. Jart+ Water Drop Hydrating Moisturizer</td>\n",
       "      <td>really interest product come tube gel balm tex...</td>\n",
       "    </tr>\n",
       "    <tr>\n",
       "      <th>51988</th>\n",
       "      <td>Completely Bare Go Fuzz Free Facial Moisturize...</td>\n",
       "      <td>excite try product use dermaplaning tool light...</td>\n",
       "    </tr>\n",
       "  </tbody>\n",
       "</table>\n",
       "<p>37760 rows × 2 columns</p>\n",
       "</div>"
      ],
      "text/plain": [
       "                                                 Product  \\\n",
       "0                       Elemis Pro-Collagen Marine Cream   \n",
       "1                       Elemis Pro-Collagen Marine Cream   \n",
       "2                       Elemis Pro-Collagen Marine Cream   \n",
       "3                       Elemis Pro-Collagen Marine Cream   \n",
       "4                       Elemis Pro-Collagen Marine Cream   \n",
       "...                                                  ...   \n",
       "51773                         Proactiv Renewing Cleanser   \n",
       "51774                         Proactiv Renewing Cleanser   \n",
       "51808  BeautyRx by Dr. Schultz Balancing Glycolic Cle...   \n",
       "51873         Dr. Jart+ Water Drop Hydrating Moisturizer   \n",
       "51988  Completely Bare Go Fuzz Free Facial Moisturize...   \n",
       "\n",
       "                                              ReviewText  \n",
       "0      crrrraaazzzyyyy expensive work great like use ...  \n",
       "1      wow really good product first learn website de...  \n",
       "2      start use elemis line months ago slowly start ...  \n",
       "3      complete facial carnival cruise months ago pur...  \n",
       "4      purchase years ago wow smooth totally dissolve...  \n",
       "...                                                  ...  \n",
       "51773  use everday like instructions say see result d...  \n",
       "51774  part three step program work amazingly well ge...  \n",
       "51808  glycolic acid cleanser felt really gentle flip...  \n",
       "51873  really interest product come tube gel balm tex...  \n",
       "51988  excite try product use dermaplaning tool light...  \n",
       "\n",
       "[37760 rows x 2 columns]"
      ]
     },
     "execution_count": 28,
     "metadata": {},
     "output_type": "execute_result"
    }
   ],
   "source": [
    "con_df.drop(['Category', 'UserName','UserReviewTitle','Rank', 'Featured','Brand', 'UserRating', 'Date', 'ReviewTextMore', 'FullReviewText', 'OverallScore'],axis=1, inplace=True);\n",
    "con_df"
   ]
  },
  {
   "cell_type": "code",
   "execution_count": 29,
   "metadata": {},
   "outputs": [
    {
     "name": "stdout",
     "output_type": "stream",
     "text": [
      "<class 'pandas.core.frame.DataFrame'>\n",
      "Int64Index: 37760 entries, 0 to 51988\n",
      "Data columns (total 2 columns):\n",
      " #   Column      Non-Null Count  Dtype \n",
      "---  ------      --------------  ----- \n",
      " 0   Product     37760 non-null  object\n",
      " 1   ReviewText  37760 non-null  object\n",
      "dtypes: object(2)\n",
      "memory usage: 885.0+ KB\n"
     ]
    }
   ],
   "source": [
    "con_df.info()"
   ]
  },
  {
   "cell_type": "markdown",
   "metadata": {},
   "source": [
    "\n",
    "### Update dataframe to be singular products with total review text as document"
   ]
  },
  {
   "cell_type": "code",
   "execution_count": 30,
   "metadata": {},
   "outputs": [
    {
     "data": {
      "text/plain": [
       "Olay Complete All Day Moisturizer with Sunscreen Broad Spectrum SPF 15 - Normal    1224\n",
       "Olay Regenerist Regenerating Serum                                                  720\n",
       "Nu Skin AgeLoc Future Serum                                                         539\n",
       "Philosophy Purity Made Simple Foaming 3-in-1 Cleansing Gel for Face and Eyes        530\n",
       "Olay 4-in-1 Daily Facial Cloths - Normal Skin                                       486\n",
       "                                                                                   ... \n",
       "Love for Humanity Organics Anti-Aging Eye Serum                                       1\n",
       "Lancaster Comforting Cleansing Milk                                                   1\n",
       "Boscia Tsubaki Cleansing Oil-Gel                                                      1\n",
       "DHC Neck Treatment Essence Peptides                                                   1\n",
       "Votre Vu  SPÉCIALEYES Specialize Intensive Eye Treatment                              1\n",
       "Name: Product, Length: 4621, dtype: int64"
      ]
     },
     "execution_count": 30,
     "metadata": {},
     "output_type": "execute_result"
    }
   ],
   "source": [
    "con_df['Product'].value_counts()"
   ]
  },
  {
   "cell_type": "code",
   "execution_count": 31,
   "metadata": {},
   "outputs": [],
   "source": [
    "con_df['Helper'] = np.where(con_df['Product'] == '', 0, 1)"
   ]
  },
  {
   "cell_type": "code",
   "execution_count": 32,
   "metadata": {},
   "outputs": [
    {
     "data": {
      "text/plain": [
       "1    37760\n",
       "Name: Helper, dtype: int64"
      ]
     },
     "execution_count": 32,
     "metadata": {},
     "output_type": "execute_result"
    }
   ],
   "source": [
    "con_df.Helper.value_counts()"
   ]
  },
  {
   "cell_type": "code",
   "execution_count": 33,
   "metadata": {},
   "outputs": [
    {
     "data": {
      "text/html": [
       "<div>\n",
       "<style scoped>\n",
       "    .dataframe tbody tr th:only-of-type {\n",
       "        vertical-align: middle;\n",
       "    }\n",
       "\n",
       "    .dataframe tbody tr th {\n",
       "        vertical-align: top;\n",
       "    }\n",
       "\n",
       "    .dataframe thead th {\n",
       "        text-align: right;\n",
       "    }\n",
       "</style>\n",
       "<table border=\"1\" class=\"dataframe\">\n",
       "  <thead>\n",
       "    <tr style=\"text-align: right;\">\n",
       "      <th></th>\n",
       "      <th>Product</th>\n",
       "      <th>ReviewText</th>\n",
       "    </tr>\n",
       "  </thead>\n",
       "  <tbody>\n",
       "    <tr>\n",
       "      <th>0</th>\n",
       "      <td>Elemis Pro-Collagen Marine Cream</td>\n",
       "      <td>crrrraaazzzyyyy expensive work great like use ...</td>\n",
       "    </tr>\n",
       "    <tr>\n",
       "      <th>1</th>\n",
       "      <td>Elemis Pro-Collagen Marine Cream</td>\n",
       "      <td>wow really good product first learn website de...</td>\n",
       "    </tr>\n",
       "    <tr>\n",
       "      <th>2</th>\n",
       "      <td>Elemis Pro-Collagen Marine Cream</td>\n",
       "      <td>start use elemis line months ago slowly start ...</td>\n",
       "    </tr>\n",
       "    <tr>\n",
       "      <th>3</th>\n",
       "      <td>Elemis Pro-Collagen Marine Cream</td>\n",
       "      <td>complete facial carnival cruise months ago pur...</td>\n",
       "    </tr>\n",
       "    <tr>\n",
       "      <th>4</th>\n",
       "      <td>Elemis Pro-Collagen Marine Cream</td>\n",
       "      <td>purchase years ago wow smooth totally dissolve...</td>\n",
       "    </tr>\n",
       "  </tbody>\n",
       "</table>\n",
       "</div>"
      ],
      "text/plain": [
       "                            Product  \\\n",
       "0  Elemis Pro-Collagen Marine Cream   \n",
       "1  Elemis Pro-Collagen Marine Cream   \n",
       "2  Elemis Pro-Collagen Marine Cream   \n",
       "3  Elemis Pro-Collagen Marine Cream   \n",
       "4  Elemis Pro-Collagen Marine Cream   \n",
       "\n",
       "                                          ReviewText  \n",
       "0  crrrraaazzzyyyy expensive work great like use ...  \n",
       "1  wow really good product first learn website de...  \n",
       "2  start use elemis line months ago slowly start ...  \n",
       "3  complete facial carnival cruise months ago pur...  \n",
       "4  purchase years ago wow smooth totally dissolve...  "
      ]
     },
     "execution_count": 33,
     "metadata": {},
     "output_type": "execute_result"
    }
   ],
   "source": [
    "con_df.drop(['Helper'],axis=1, inplace=True);\n",
    "con_df.head()"
   ]
  },
  {
   "cell_type": "code",
   "execution_count": 34,
   "metadata": {},
   "outputs": [
    {
     "data": {
      "text/html": [
       "<div>\n",
       "<style scoped>\n",
       "    .dataframe tbody tr th:only-of-type {\n",
       "        vertical-align: middle;\n",
       "    }\n",
       "\n",
       "    .dataframe tbody tr th {\n",
       "        vertical-align: top;\n",
       "    }\n",
       "\n",
       "    .dataframe thead th {\n",
       "        text-align: right;\n",
       "    }\n",
       "</style>\n",
       "<table border=\"1\" class=\"dataframe\">\n",
       "  <thead>\n",
       "    <tr style=\"text-align: right;\">\n",
       "      <th></th>\n",
       "      <th>Product</th>\n",
       "      <th>ReviewText</th>\n",
       "    </tr>\n",
       "  </thead>\n",
       "  <tbody>\n",
       "    <tr>\n",
       "      <th>46073</th>\n",
       "      <td>Burt's Bees Herbal Blemish Stick</td>\n",
       "      <td>think product great take little get use smell ...</td>\n",
       "    </tr>\n",
       "    <tr>\n",
       "      <th>19128</th>\n",
       "      <td>Laura Mercier Tinted Moisturizer Broad Spectru...</td>\n",
       "      <td>love tint moisturizer funny sephora look new f...</td>\n",
       "    </tr>\n",
       "    <tr>\n",
       "      <th>34099</th>\n",
       "      <td>Estée Lauder Advanced Night Repair Synchronize...</td>\n",
       "      <td>wish work unfortunately visible result use hal...</td>\n",
       "    </tr>\n",
       "    <tr>\n",
       "      <th>7090</th>\n",
       "      <td>Obagi Nu-Derm Clear</td>\n",
       "      <td>use couple years product work dark patch sun d...</td>\n",
       "    </tr>\n",
       "    <tr>\n",
       "      <th>42597</th>\n",
       "      <td>Clarins Truly Matte Blemish Control</td>\n",
       "      <td>love much wheni buy huge spot chin put product...</td>\n",
       "    </tr>\n",
       "    <tr>\n",
       "      <th>...</th>\n",
       "      <td>...</td>\n",
       "      <td>...</td>\n",
       "    </tr>\n",
       "    <tr>\n",
       "      <th>7962</th>\n",
       "      <td>Nu Skin AgeLoc Future Serum</td>\n",
       "      <td>excite product half face previous ageloc produ...</td>\n",
       "    </tr>\n",
       "    <tr>\n",
       "      <th>43846</th>\n",
       "      <td>Proactiv Deep Cleansing Wash</td>\n",
       "      <td>love product use every morning along proactiv ...</td>\n",
       "    </tr>\n",
       "    <tr>\n",
       "      <th>47194</th>\n",
       "      <td>Olay Regenerist Eye Derma-Pod Anti Aging Tripl...</td>\n",
       "      <td>second box use daily rather every days really ...</td>\n",
       "    </tr>\n",
       "    <tr>\n",
       "      <th>50183</th>\n",
       "      <td>University Medical Acne Free Clear Skin Treatm...</td>\n",
       "      <td>use proactive years early feed mandatory auto ...</td>\n",
       "    </tr>\n",
       "    <tr>\n",
       "      <th>9973</th>\n",
       "      <td>Olay Regenerist Micro-Sculpting Cream</td>\n",
       "      <td>love product wear olay years keep get better u...</td>\n",
       "    </tr>\n",
       "  </tbody>\n",
       "</table>\n",
       "<p>37760 rows × 2 columns</p>\n",
       "</div>"
      ],
      "text/plain": [
       "                                                 Product  \\\n",
       "46073                   Burt's Bees Herbal Blemish Stick   \n",
       "19128  Laura Mercier Tinted Moisturizer Broad Spectru...   \n",
       "34099  Estée Lauder Advanced Night Repair Synchronize...   \n",
       "7090                                 Obagi Nu-Derm Clear   \n",
       "42597                Clarins Truly Matte Blemish Control   \n",
       "...                                                  ...   \n",
       "7962                         Nu Skin AgeLoc Future Serum   \n",
       "43846                       Proactiv Deep Cleansing Wash   \n",
       "47194  Olay Regenerist Eye Derma-Pod Anti Aging Tripl...   \n",
       "50183  University Medical Acne Free Clear Skin Treatm...   \n",
       "9973               Olay Regenerist Micro-Sculpting Cream   \n",
       "\n",
       "                                              ReviewText  \n",
       "46073  think product great take little get use smell ...  \n",
       "19128  love tint moisturizer funny sephora look new f...  \n",
       "34099  wish work unfortunately visible result use hal...  \n",
       "7090   use couple years product work dark patch sun d...  \n",
       "42597  love much wheni buy huge spot chin put product...  \n",
       "...                                                  ...  \n",
       "7962   excite product half face previous ageloc produ...  \n",
       "43846  love product use every morning along proactiv ...  \n",
       "47194  second box use daily rather every days really ...  \n",
       "50183  use proactive years early feed mandatory auto ...  \n",
       "9973   love product wear olay years keep get better u...  \n",
       "\n",
       "[37760 rows x 2 columns]"
      ]
     },
     "execution_count": 34,
     "metadata": {},
     "output_type": "execute_result"
    }
   ],
   "source": [
    "con_df.sample(frac=1)"
   ]
  },
  {
   "cell_type": "code",
   "execution_count": 35,
   "metadata": {},
   "outputs": [],
   "source": [
    "newtestseries = con_df.groupby([\"Product\"])['ReviewText'].apply(list)"
   ]
  },
  {
   "cell_type": "code",
   "execution_count": 36,
   "metadata": {},
   "outputs": [
    {
     "name": "stdout",
     "output_type": "stream",
     "text": [
      "<class 'pandas.core.series.Series'>\n"
     ]
    }
   ],
   "source": [
    "print(type(newtestseries))"
   ]
  },
  {
   "cell_type": "code",
   "execution_count": 37,
   "metadata": {},
   "outputs": [
    {
     "data": {
      "text/html": [
       "<div>\n",
       "<style scoped>\n",
       "    .dataframe tbody tr th:only-of-type {\n",
       "        vertical-align: middle;\n",
       "    }\n",
       "\n",
       "    .dataframe tbody tr th {\n",
       "        vertical-align: top;\n",
       "    }\n",
       "\n",
       "    .dataframe thead th {\n",
       "        text-align: right;\n",
       "    }\n",
       "</style>\n",
       "<table border=\"1\" class=\"dataframe\">\n",
       "  <thead>\n",
       "    <tr style=\"text-align: right;\">\n",
       "      <th></th>\n",
       "      <th>Product</th>\n",
       "      <th>ReviewText</th>\n",
       "    </tr>\n",
       "  </thead>\n",
       "  <tbody>\n",
       "    <tr>\n",
       "      <th>0</th>\n",
       "      <td>1 Day Acuvue Brand Contact Lenses</td>\n",
       "      <td>[try different brand husband remain loyal john...</td>\n",
       "    </tr>\n",
       "    <tr>\n",
       "      <th>1</th>\n",
       "      <td>1 Day Acuvue Moist Brand Contact Lenses</td>\n",
       "      <td>[really love acuvue contact help see better ea...</td>\n",
       "    </tr>\n",
       "    <tr>\n",
       "      <th>2</th>\n",
       "      <td>100% Pure Aqua Boost Hydrating Mask</td>\n",
       "      <td>[kind face mask cream freak test lot different...</td>\n",
       "    </tr>\n",
       "    <tr>\n",
       "      <th>3</th>\n",
       "      <td>100% Pure Argan Oil Hydration Facial Moisturiz...</td>\n",
       "      <td>[pure argan oil hydration facial moisturizer s...</td>\n",
       "    </tr>\n",
       "    <tr>\n",
       "      <th>4</th>\n",
       "      <td>100% Pure Korres White Tea Facial Fluid Gel Cl...</td>\n",
       "      <td>[love cleanser normal dry skin use product ski...</td>\n",
       "    </tr>\n",
       "    <tr>\n",
       "      <th>...</th>\n",
       "      <td>...</td>\n",
       "      <td>...</td>\n",
       "    </tr>\n",
       "    <tr>\n",
       "      <th>4616</th>\n",
       "      <td>mark Let's Be Clear Blemish Neutralizing Clean...</td>\n",
       "      <td>[use product couple time okay really need dry ...</td>\n",
       "    </tr>\n",
       "    <tr>\n",
       "      <th>4617</th>\n",
       "      <td>no!no! FaceTrainer</td>\n",
       "      <td>[ive try days get use weird look kid couldnt s...</td>\n",
       "    </tr>\n",
       "    <tr>\n",
       "      <th>4618</th>\n",
       "      <td>pur-lisse pur~protect spf 30</td>\n",
       "      <td>[receive sample decide use today pleasantly su...</td>\n",
       "    </tr>\n",
       "    <tr>\n",
       "      <th>4619</th>\n",
       "      <td>pur~lisse pur~delicate gentle soy milk cleanse...</td>\n",
       "      <td>[face cleanser delicate skin thoroughly clean ...</td>\n",
       "    </tr>\n",
       "    <tr>\n",
       "      <th>4620</th>\n",
       "      <td>the Balm BalmShelter Tinted Moisturizer SPF 18</td>\n",
       "      <td>[tint moisturizers general arent enough covera...</td>\n",
       "    </tr>\n",
       "  </tbody>\n",
       "</table>\n",
       "<p>4621 rows × 2 columns</p>\n",
       "</div>"
      ],
      "text/plain": [
       "                                                Product  \\\n",
       "0                     1 Day Acuvue Brand Contact Lenses   \n",
       "1               1 Day Acuvue Moist Brand Contact Lenses   \n",
       "2                   100% Pure Aqua Boost Hydrating Mask   \n",
       "3     100% Pure Argan Oil Hydration Facial Moisturiz...   \n",
       "4     100% Pure Korres White Tea Facial Fluid Gel Cl...   \n",
       "...                                                 ...   \n",
       "4616  mark Let's Be Clear Blemish Neutralizing Clean...   \n",
       "4617                                 no!no! FaceTrainer   \n",
       "4618                       pur-lisse pur~protect spf 30   \n",
       "4619  pur~lisse pur~delicate gentle soy milk cleanse...   \n",
       "4620     the Balm BalmShelter Tinted Moisturizer SPF 18   \n",
       "\n",
       "                                             ReviewText  \n",
       "0     [try different brand husband remain loyal john...  \n",
       "1     [really love acuvue contact help see better ea...  \n",
       "2     [kind face mask cream freak test lot different...  \n",
       "3     [pure argan oil hydration facial moisturizer s...  \n",
       "4     [love cleanser normal dry skin use product ski...  \n",
       "...                                                 ...  \n",
       "4616  [use product couple time okay really need dry ...  \n",
       "4617  [ive try days get use weird look kid couldnt s...  \n",
       "4618  [receive sample decide use today pleasantly su...  \n",
       "4619  [face cleanser delicate skin thoroughly clean ...  \n",
       "4620  [tint moisturizers general arent enough covera...  \n",
       "\n",
       "[4621 rows x 2 columns]"
      ]
     },
     "execution_count": 37,
     "metadata": {},
     "output_type": "execute_result"
    }
   ],
   "source": [
    "newtestdf = newtestseries.to_frame();\n",
    "newtestdf.reset_index()"
   ]
  },
  {
   "cell_type": "code",
   "execution_count": 38,
   "metadata": {},
   "outputs": [
    {
     "data": {
      "text/plain": [
       "['life normal soft clear skin try many cream serums nothing ever really work would break get rash face would get really oily dry try serum find make face really soft face isnt dry oily break get rashes perfect smell also bonus get nice baby powdery sort smell',\n",
       " 'get serum sample love little long way use every day face seem younger healthier bite glow side pretty expensive']"
      ]
     },
     "execution_count": 38,
     "metadata": {},
     "output_type": "execute_result"
    }
   ],
   "source": [
    "newtestmatrix = newtestdf.ReviewText.values;\n",
    "newtestmatrix[588]\n"
   ]
  },
  {
   "cell_type": "code",
   "execution_count": 39,
   "metadata": {},
   "outputs": [
    {
     "data": {
      "text/html": [
       "<div>\n",
       "<style scoped>\n",
       "    .dataframe tbody tr th:only-of-type {\n",
       "        vertical-align: middle;\n",
       "    }\n",
       "\n",
       "    .dataframe tbody tr th {\n",
       "        vertical-align: top;\n",
       "    }\n",
       "\n",
       "    .dataframe thead th {\n",
       "        text-align: right;\n",
       "    }\n",
       "</style>\n",
       "<table border=\"1\" class=\"dataframe\">\n",
       "  <thead>\n",
       "    <tr style=\"text-align: right;\">\n",
       "      <th></th>\n",
       "      <th>Product</th>\n",
       "      <th>ReviewText</th>\n",
       "    </tr>\n",
       "  </thead>\n",
       "  <tbody>\n",
       "    <tr>\n",
       "      <th>0</th>\n",
       "      <td>1 Day Acuvue Brand Contact Lenses</td>\n",
       "      <td>[try different brand husband remain loyal john...</td>\n",
       "    </tr>\n",
       "    <tr>\n",
       "      <th>1</th>\n",
       "      <td>1 Day Acuvue Moist Brand Contact Lenses</td>\n",
       "      <td>[really love acuvue contact help see better ea...</td>\n",
       "    </tr>\n",
       "    <tr>\n",
       "      <th>2</th>\n",
       "      <td>100% Pure Aqua Boost Hydrating Mask</td>\n",
       "      <td>[kind face mask cream freak test lot different...</td>\n",
       "    </tr>\n",
       "    <tr>\n",
       "      <th>3</th>\n",
       "      <td>100% Pure Argan Oil Hydration Facial Moisturiz...</td>\n",
       "      <td>[pure argan oil hydration facial moisturizer s...</td>\n",
       "    </tr>\n",
       "    <tr>\n",
       "      <th>4</th>\n",
       "      <td>100% Pure Korres White Tea Facial Fluid Gel Cl...</td>\n",
       "      <td>[love cleanser normal dry skin use product ski...</td>\n",
       "    </tr>\n",
       "  </tbody>\n",
       "</table>\n",
       "</div>"
      ],
      "text/plain": [
       "                                             Product  \\\n",
       "0                  1 Day Acuvue Brand Contact Lenses   \n",
       "1            1 Day Acuvue Moist Brand Contact Lenses   \n",
       "2                100% Pure Aqua Boost Hydrating Mask   \n",
       "3  100% Pure Argan Oil Hydration Facial Moisturiz...   \n",
       "4  100% Pure Korres White Tea Facial Fluid Gel Cl...   \n",
       "\n",
       "                                          ReviewText  \n",
       "0  [try different brand husband remain loyal john...  \n",
       "1  [really love acuvue contact help see better ea...  \n",
       "2  [kind face mask cream freak test lot different...  \n",
       "3  [pure argan oil hydration facial moisturizer s...  \n",
       "4  [love cleanser normal dry skin use product ski...  "
      ]
     },
     "execution_count": 39,
     "metadata": {},
     "output_type": "execute_result"
    }
   ],
   "source": [
    "test_df = newtestdf.iloc[:20000,:].reset_index();\n",
    "\n",
    "test_df.head()"
   ]
  },
  {
   "cell_type": "code",
   "execution_count": 40,
   "metadata": {},
   "outputs": [
    {
     "data": {
      "text/html": [
       "<div>\n",
       "<style scoped>\n",
       "    .dataframe tbody tr th:only-of-type {\n",
       "        vertical-align: middle;\n",
       "    }\n",
       "\n",
       "    .dataframe tbody tr th {\n",
       "        vertical-align: top;\n",
       "    }\n",
       "\n",
       "    .dataframe thead th {\n",
       "        text-align: right;\n",
       "    }\n",
       "</style>\n",
       "<table border=\"1\" class=\"dataframe\">\n",
       "  <thead>\n",
       "    <tr style=\"text-align: right;\">\n",
       "      <th></th>\n",
       "      <th>Product</th>\n",
       "      <th>ReviewText</th>\n",
       "      <th>ReviewText2</th>\n",
       "    </tr>\n",
       "  </thead>\n",
       "  <tbody>\n",
       "    <tr>\n",
       "      <th>0</th>\n",
       "      <td>1 Day Acuvue Brand Contact Lenses</td>\n",
       "      <td>[try different brand husband remain loyal john...</td>\n",
       "      <td>try different brand husband remain loyal johns...</td>\n",
       "    </tr>\n",
       "    <tr>\n",
       "      <th>1</th>\n",
       "      <td>1 Day Acuvue Moist Brand Contact Lenses</td>\n",
       "      <td>[really love acuvue contact help see better ea...</td>\n",
       "      <td>really love acuvue contact help see better eas...</td>\n",
       "    </tr>\n",
       "    <tr>\n",
       "      <th>2</th>\n",
       "      <td>100% Pure Aqua Boost Hydrating Mask</td>\n",
       "      <td>[kind face mask cream freak test lot different...</td>\n",
       "      <td>kind face mask cream freak test lot different ...</td>\n",
       "    </tr>\n",
       "    <tr>\n",
       "      <th>3</th>\n",
       "      <td>100% Pure Argan Oil Hydration Facial Moisturiz...</td>\n",
       "      <td>[pure argan oil hydration facial moisturizer s...</td>\n",
       "      <td>pure argan oil hydration facial moisturizer sp...</td>\n",
       "    </tr>\n",
       "    <tr>\n",
       "      <th>4</th>\n",
       "      <td>100% Pure Korres White Tea Facial Fluid Gel Cl...</td>\n",
       "      <td>[love cleanser normal dry skin use product ski...</td>\n",
       "      <td>love cleanser normal dry skin use product skin...</td>\n",
       "    </tr>\n",
       "  </tbody>\n",
       "</table>\n",
       "</div>"
      ],
      "text/plain": [
       "                                             Product  \\\n",
       "0                  1 Day Acuvue Brand Contact Lenses   \n",
       "1            1 Day Acuvue Moist Brand Contact Lenses   \n",
       "2                100% Pure Aqua Boost Hydrating Mask   \n",
       "3  100% Pure Argan Oil Hydration Facial Moisturiz...   \n",
       "4  100% Pure Korres White Tea Facial Fluid Gel Cl...   \n",
       "\n",
       "                                          ReviewText  \\\n",
       "0  [try different brand husband remain loyal john...   \n",
       "1  [really love acuvue contact help see better ea...   \n",
       "2  [kind face mask cream freak test lot different...   \n",
       "3  [pure argan oil hydration facial moisturizer s...   \n",
       "4  [love cleanser normal dry skin use product ski...   \n",
       "\n",
       "                                         ReviewText2  \n",
       "0  try different brand husband remain loyal johns...  \n",
       "1  really love acuvue contact help see better eas...  \n",
       "2  kind face mask cream freak test lot different ...  \n",
       "3  pure argan oil hydration facial moisturizer sp...  \n",
       "4  love cleanser normal dry skin use product skin...  "
      ]
     },
     "execution_count": 40,
     "metadata": {},
     "output_type": "execute_result"
    }
   ],
   "source": [
    "test_df['ReviewText2'] = [','.join(map(str, l)) for l in test_df['ReviewText']];\n",
    "test_df.head()"
   ]
  },
  {
   "cell_type": "code",
   "execution_count": 41,
   "metadata": {},
   "outputs": [
    {
     "data": {
      "text/html": [
       "<div>\n",
       "<style scoped>\n",
       "    .dataframe tbody tr th:only-of-type {\n",
       "        vertical-align: middle;\n",
       "    }\n",
       "\n",
       "    .dataframe tbody tr th {\n",
       "        vertical-align: top;\n",
       "    }\n",
       "\n",
       "    .dataframe thead th {\n",
       "        text-align: right;\n",
       "    }\n",
       "</style>\n",
       "<table border=\"1\" class=\"dataframe\">\n",
       "  <thead>\n",
       "    <tr style=\"text-align: right;\">\n",
       "      <th></th>\n",
       "      <th>ReviewText2</th>\n",
       "    </tr>\n",
       "    <tr>\n",
       "      <th>Product</th>\n",
       "      <th></th>\n",
       "    </tr>\n",
       "  </thead>\n",
       "  <tbody>\n",
       "    <tr>\n",
       "      <th>1 Day Acuvue Brand Contact Lenses</th>\n",
       "      <td>try different brand husband remain loyal johns...</td>\n",
       "    </tr>\n",
       "    <tr>\n",
       "      <th>1 Day Acuvue Moist Brand Contact Lenses</th>\n",
       "      <td>really love acuvue contact help see better eas...</td>\n",
       "    </tr>\n",
       "    <tr>\n",
       "      <th>100% Pure Aqua Boost Hydrating Mask</th>\n",
       "      <td>kind face mask cream freak test lot different ...</td>\n",
       "    </tr>\n",
       "    <tr>\n",
       "      <th>100% Pure Argan Oil Hydration Facial Moisturizer SPF 30</th>\n",
       "      <td>pure argan oil hydration facial moisturizer sp...</td>\n",
       "    </tr>\n",
       "    <tr>\n",
       "      <th>100% Pure Korres White Tea Facial Fluid Gel Cleanser</th>\n",
       "      <td>love cleanser normal dry skin use product skin...</td>\n",
       "    </tr>\n",
       "  </tbody>\n",
       "</table>\n",
       "</div>"
      ],
      "text/plain": [
       "                                                                                          ReviewText2\n",
       "Product                                                                                              \n",
       "1 Day Acuvue Brand Contact Lenses                   try different brand husband remain loyal johns...\n",
       "1 Day Acuvue Moist Brand Contact Lenses             really love acuvue contact help see better eas...\n",
       "100% Pure Aqua Boost Hydrating Mask                 kind face mask cream freak test lot different ...\n",
       "100% Pure Argan Oil Hydration Facial Moisturize...  pure argan oil hydration facial moisturizer sp...\n",
       "100% Pure Korres White Tea Facial Fluid Gel Cle...  love cleanser normal dry skin use product skin..."
      ]
     },
     "execution_count": 41,
     "metadata": {},
     "output_type": "execute_result"
    }
   ],
   "source": [
    "content_df = test_df.drop(['ReviewText'],axis=1)\n",
    "content_df.set_index(['Product'], inplace=True);\n",
    "content_df.head()"
   ]
  },
  {
   "cell_type": "markdown",
   "metadata": {},
   "source": [
    "## Content based item recommender based on input of preferred item"
   ]
  },
  {
   "cell_type": "code",
   "execution_count": 42,
   "metadata": {},
   "outputs": [],
   "source": [
    "\n",
    "import pandas as pd\n",
    "from rake_nltk import Rake\n",
    "import numpy as np\n",
    "from sklearn.metrics.pairwise import cosine_similarity\n",
    "from sklearn.feature_extraction.text import CountVectorizer, TfidfVectorizer\n",
    "import pandas as pd\n",
    "import numpy as np\n",
    "import re\n",
    "\n",
    "class ItemRecommender():\n",
    "    '''\n",
    "    Content based item recommender\n",
    "    '''\n",
    "    def __init__(self, similarity_measure=None):\n",
    "        self.similarity_matrix = None\n",
    "        self.item_names = None\n",
    "\n",
    "        if similarity_measure == None:\n",
    "            self.similarity_measure = cosine_similarity\n",
    "        else:\n",
    "            self.similarity_measure = similarity_measure\n",
    "\n",
    "    \n",
    "    def fit(self, X, titles=None):\n",
    "        '''\n",
    "        Takes a numpy array of the item attributes and creates the similarity matrix\n",
    "        INPUT -\n",
    "            X: NUMPY ARRAY - Rows are items, columns are feature values / or DF\n",
    "            titles: LIST - List of the item names/titles in order of the numpy arrray\n",
    "        \n",
    "        OUTPUT - None\n",
    "        Notes:  You might want to keep titles and X as attributes to refer to them later\n",
    "        Create the a similarity matrix of item to item similarity\n",
    "        '''\n",
    "\n",
    "        # While keeping this as a sparse matrix would be best the cosign sim\n",
    "        # function returns a array so there is no reason.\n",
    "        \n",
    "        if isinstance(X, pd.DataFrame):\n",
    "            self.item_counts = X\n",
    "            self.item_names = X.index\n",
    "            self.similarity_df = pd.DataFrame(self.similarity_measure(X.values, X.values),\n",
    "                 index = self.item_names)\n",
    "        else:\n",
    "            self.item_counts = X\n",
    "            self.similarity_df = pd.DataFrame(self.similarity_measure(X, X),\n",
    "                 index = titles)\n",
    "            self.item_names = self.similarity_df.index\n",
    "\n",
    "        \n",
    "    def get_recommendations(self, item, n=5):\n",
    "        '''\n",
    "        Returns the top n items related to the item passed in\n",
    "        INPUT:\n",
    "            item    - STRING - Name of item in the original DataFrame \n",
    "            n       - INT    - Number of top related items to return \n",
    "        OUTPUT:\n",
    "            items - List of the top n related item names\n",
    "        For a given item find the n most similar items to it (this can be done using the similarity matrix created in the fit method)\n",
    "        '''\n",
    "        return self.item_names[self.similarity_df.loc[item].values.argsort()[-(n+1):-1]].values[::-1]\n",
    "\n",
    "\n",
    "    def get_user_profile(self, items):\n",
    "        '''\n",
    "        Takes a list of items and returns a user profile. A vector representing the likes of the user.\n",
    "        INPUT: \n",
    "            items  -   LIST - list of movie names user likes / has seen\n",
    "        OUTPUT: \n",
    "            user_profile - NP ARRAY - array representing the likes of the user \n",
    "                    The columns of this will match the columns of the trained on matrix\n",
    "    \n",
    "        Using the list of items liked by the user create a profile which will be a 1 x number of features array.  This should be the addition of the values for all liked item features (you can choose how to normalize if you think it is needed)\n",
    "        '''\n",
    "        user_profile = np.zeros(self.item_counts.shape[1])\n",
    "        for item in items:\n",
    "            user_profile += self.item_counts.loc[item].values\n",
    "\n",
    "        return user_profile\n",
    "\n",
    "\n",
    "    def get_user_recommendation(self, items, n=5):\n",
    "        '''\n",
    "        Takes a list of movies user liked and returns the top n items for that user\n",
    "        INPUT \n",
    "            items  -   LIST - list of movie names user likes / has seen\n",
    "            n -  INT - number of items to return\n",
    "        OUTPUT \n",
    "            items - LIST - n recommended items\n",
    "    \n",
    "        Make use of the get_user_profile method to create a user profile that will be used to get the similarity to all items and recommend the top n.\n",
    "        '''\n",
    "        num_items = len(items)\n",
    "        user_profile = self.get_user_profile(items)\n",
    "\n",
    "        user_sim =  self.similarity_measure(self.item_counts, user_profile.reshape(1,-1))\n",
    "\n",
    "        return self.item_names[user_sim[:,0].argsort()[-(num_items+n):-num_items]].values[::-1]\n"
   ]
  },
  {
   "cell_type": "markdown",
   "metadata": {},
   "source": [
    "### CountVectorizer"
   ]
  },
  {
   "cell_type": "code",
   "execution_count": 43,
   "metadata": {},
   "outputs": [],
   "source": [
    " # instantiating and generating the count matrix\n",
    "count = CountVectorizer()\n",
    "count_matrix = count.fit_transform(content_df['ReviewText2'])\n",
    "\n",
    "# creating a Series for the movie titles so they are associated to an ordered numerical\n",
    "# list I will use later to match the indexes\n",
    "indices = pd.Series(content_df.index)"
   ]
  },
  {
   "cell_type": "code",
   "execution_count": 44,
   "metadata": {},
   "outputs": [],
   "source": [
    "\n",
    "rec = ItemRecommender()\n",
    "count_df = pd.DataFrame(count_matrix.todense(), index=indices.values)\n"
   ]
  },
  {
   "cell_type": "code",
   "execution_count": 45,
   "metadata": {},
   "outputs": [],
   "source": [
    "rec.fit(count_df)\n",
    "\n"
   ]
  },
  {
   "cell_type": "code",
   "execution_count": 46,
   "metadata": {},
   "outputs": [
    {
     "name": "stdout",
     "output_type": "stream",
     "text": [
      "['Dermalogica Special Cleansing Gel' 'Avalon Organics Vitamin C Refreshing Cleansing Gel'\n",
      " 'bareMinerals Purifying Facial Cleanser' 'Aveeno Clear Complexion Foaming Cleanser'\n",
      " 'Aveeno Positively Radiant Cleanser']\n"
     ]
    }
   ],
   "source": [
    "\n",
    "print(rec.get_recommendations('100% Pure Korres White Tea Facial Fluid Gel Cleanser'))"
   ]
  },
  {
   "cell_type": "markdown",
   "metadata": {},
   "source": [
    "### TF-IDF"
   ]
  },
  {
   "cell_type": "code",
   "execution_count": 47,
   "metadata": {},
   "outputs": [],
   "source": [
    "# instantiating and generating the count matrix\n",
    "tfidf = TfidfVectorizer(analyzer='word', ngram_range=(1, 3), min_df=0)\n",
    "tfidf_matrix = count.fit_transform(content_df['ReviewText2'])\n",
    "\n",
    "# creating a Series for the movie titles so they are associated to an ordered numerical\n",
    "# list I will use later to match the indexes\n",
    "indices = pd.Series(content_df.index)"
   ]
  },
  {
   "cell_type": "code",
   "execution_count": 48,
   "metadata": {},
   "outputs": [],
   "source": [
    "rec = ItemRecommender()\n",
    "count_df = pd.DataFrame(count_matrix.todense(), index=indices.values)\n"
   ]
  },
  {
   "cell_type": "code",
   "execution_count": 49,
   "metadata": {},
   "outputs": [],
   "source": [
    "rec.fit(count_df)"
   ]
  },
  {
   "cell_type": "code",
   "execution_count": 50,
   "metadata": {},
   "outputs": [
    {
     "name": "stdout",
     "output_type": "stream",
     "text": [
      "['Dermalogica Special Cleansing Gel' 'Avalon Organics Vitamin C Refreshing Cleansing Gel'\n",
      " 'bareMinerals Purifying Facial Cleanser' 'Aveeno Clear Complexion Foaming Cleanser'\n",
      " 'Aveeno Positively Radiant Cleanser']\n"
     ]
    }
   ],
   "source": [
    "print(rec.get_recommendations('100% Pure Korres White Tea Facial Fluid Gel Cleanser'))"
   ]
  },
  {
   "cell_type": "code",
   "execution_count": null,
   "metadata": {},
   "outputs": [],
   "source": []
  },
  {
   "cell_type": "code",
   "execution_count": null,
   "metadata": {},
   "outputs": [],
   "source": []
  },
  {
   "cell_type": "code",
   "execution_count": null,
   "metadata": {},
   "outputs": [],
   "source": []
  }
 ],
 "metadata": {
  "kernelspec": {
   "display_name": "Python 3",
   "language": "python",
   "name": "python3"
  },
  "language_info": {
   "codemirror_mode": {
    "name": "ipython",
    "version": 3
   },
   "file_extension": ".py",
   "mimetype": "text/x-python",
   "name": "python",
   "nbconvert_exporter": "python",
   "pygments_lexer": "ipython3",
   "version": "3.7.7"
  },
  "toc": {
   "base_numbering": 1,
   "nav_menu": {},
   "number_sections": false,
   "sideBar": true,
   "skip_h1_title": false,
   "title_cell": "Table of Contents",
   "title_sidebar": "Contents",
   "toc_cell": false,
   "toc_position": {},
   "toc_section_display": true,
   "toc_window_display": true
  }
 },
 "nbformat": 4,
 "nbformat_minor": 4
}
